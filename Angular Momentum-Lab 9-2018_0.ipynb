{
 "cells": [
  {
   "cell_type": "markdown",
   "metadata": {},
   "source": [
    "# Angular Momentum Exercise -- PHYS 3317"
   ]
  },
  {
   "cell_type": "markdown",
   "metadata": {},
   "source": [
    "Please hand in this completed notebook before next recitation."
   ]
  },
  {
   "cell_type": "markdown",
   "metadata": {},
   "source": [
    "<font color=\"red\"><em> Please double click on this cell, and replace its contents with your name </em><font color=\"red\">"
   ]
  },
  {
   "cell_type": "markdown",
   "metadata": {},
   "source": [
    "The goal with this Exercise is to build a bit more intuition about systems with multiple angular momenta.  It uses a primitive \"computer algebra system\" built for dealing with angular momenta.  If you want to learn how to build such an algebra system, look at the file \"AngularMomentum.py\""
   ]
  },
  {
   "cell_type": "markdown",
   "metadata": {},
   "source": [
    "# Loading and Using the Package"
   ]
  },
  {
   "cell_type": "code",
   "execution_count": null,
   "metadata": {},
   "outputs": [],
   "source": [
    "%pylab inline\n",
    "from scipy.linalg import eigh,eig\n",
    "from IPython.display import Math, display, Latex"
   ]
  },
  {
   "cell_type": "markdown",
   "metadata": {},
   "source": [
    "Import some custom data structures and the functions to manipulate them"
   ]
  },
  {
   "cell_type": "code",
   "execution_count": null,
   "metadata": {},
   "outputs": [],
   "source": [
    "from AngularMomentum import *"
   ]
  },
  {
   "cell_type": "markdown",
   "metadata": {},
   "source": [
    "(if you got an error message, you need to download \"AngularMomentum.py\")"
   ]
  },
  {
   "cell_type": "markdown",
   "metadata": {},
   "source": [
    "Here is how you generate something which represents an angular momentum eigenstate -- where the angular momentum operator is called \"L\" (so it presumably is an orbital angular momentum.  The total angular momentum is 1, and the spin projection is 0."
   ]
  },
  {
   "cell_type": "code",
   "execution_count": null,
   "metadata": {},
   "outputs": [],
   "source": [
    "L0=BasisState(name=\"L\",spin=1,mz=0)\n",
    "display(L0)\n",
    "print(L0.spin)\n",
    "print(L0.name)\n",
    "print(L0.mz)"
   ]
  },
  {
   "cell_type": "markdown",
   "metadata": {},
   "source": [
    "Here is a second angular momentum eigenstate -- this to an operator called \"S\""
   ]
  },
  {
   "cell_type": "code",
   "execution_count": null,
   "metadata": {},
   "outputs": [],
   "source": [
    "S1=BasisState(name=\"S\",spin=1/2,mz=1/2)\n",
    "S1"
   ]
  },
  {
   "cell_type": "markdown",
   "metadata": {},
   "source": [
    "We can use \"*\" to generate product states"
   ]
  },
  {
   "cell_type": "code",
   "execution_count": null,
   "metadata": {},
   "outputs": [],
   "source": [
    "P=L0*S1 # make product state\n",
    "P"
   ]
  },
  {
   "cell_type": "markdown",
   "metadata": {},
   "source": [
    "We can also generate more complicated wavefunctions"
   ]
  },
  {
   "cell_type": "code",
   "execution_count": null,
   "metadata": {},
   "outputs": [],
   "source": [
    "S0=BasisState(name=\"S\",spin=1/2,mz=-1/2)\n",
    "S0"
   ]
  },
  {
   "cell_type": "code",
   "execution_count": null,
   "metadata": {},
   "outputs": [],
   "source": [
    "W=(S0+S1)/sqrt(2)\n",
    "W"
   ]
  },
  {
   "cell_type": "markdown",
   "metadata": {},
   "source": [
    "We can take inner products between states"
   ]
  },
  {
   "cell_type": "code",
   "execution_count": null,
   "metadata": {},
   "outputs": [],
   "source": [
    "W.overlap(S0)"
   ]
  },
  {
   "cell_type": "markdown",
   "metadata": {},
   "source": [
    "### Problems"
   ]
  },
  {
   "cell_type": "markdown",
   "metadata": {},
   "source": [
    "Generate a complete set of states: p1,p2,p3 which represent product states involving two angular momentum operators (one called \"L\" and one called \"I\") -- both of these are spin-1 objects.  I want p1,p2,p3 all to have <em>total</em> angular momentum projection mL+mI=0."
   ]
  },
  {
   "cell_type": "code",
   "execution_count": null,
   "metadata": {},
   "outputs": [],
   "source": []
  },
  {
   "cell_type": "markdown",
   "metadata": {},
   "source": [
    "## Operators"
   ]
  },
  {
   "cell_type": "markdown",
   "metadata": {},
   "source": [
    "I have also defined spin operators Sz, Splus, and Sminus.  The following command creates operators for a spin \"S\":  The only thing they know about is the name of the spin, and what they do to states.  The display statements in the following cell, just visually show you what the operator is."
   ]
  },
  {
   "cell_type": "code",
   "execution_count": null,
   "metadata": {},
   "outputs": [],
   "source": [
    "sz=Sz(\"S\")\n",
    "display(sz)\n",
    "sp=Splus(\"S\")\n",
    "display(sp)\n",
    "sm=Sminus(\"S\")\n",
    "display(sm)"
   ]
  },
  {
   "cell_type": "code",
   "execution_count": null,
   "metadata": {},
   "outputs": [],
   "source": [
    "display(W)\n",
    "display(sz*W)\n",
    "display(sp*W)\n",
    "display(sm*W)\n",
    "display(sp*sm*W)"
   ]
  },
  {
   "cell_type": "code",
   "execution_count": null,
   "metadata": {},
   "outputs": [],
   "source": [
    "display(P)\n",
    "display(sm*P)\n",
    "display(sp*sm*P)"
   ]
  },
  {
   "cell_type": "markdown",
   "metadata": {},
   "source": [
    "If you want an operator corresponding to a different angular momentum object (say \"L\"), you would write"
   ]
  },
  {
   "cell_type": "code",
   "execution_count": null,
   "metadata": {},
   "outputs": [],
   "source": [
    "lz=Sz(\"L\")\n",
    "lz"
   ]
  },
  {
   "cell_type": "code",
   "execution_count": null,
   "metadata": {},
   "outputs": [],
   "source": [
    "display(P)\n",
    "display(lz*P)"
   ]
  },
  {
   "cell_type": "markdown",
   "metadata": {},
   "source": [
    "### Problems"
   ]
  },
  {
   "cell_type": "markdown",
   "metadata": {},
   "source": [
    "Create an operator Lp, which corresponds to $L_+$.  See how it acts on p1,p2,p3."
   ]
  },
  {
   "cell_type": "code",
   "execution_count": null,
   "metadata": {},
   "outputs": [],
   "source": []
  },
  {
   "cell_type": "markdown",
   "metadata": {},
   "source": [
    "## Combining Operators"
   ]
  },
  {
   "cell_type": "markdown",
   "metadata": {},
   "source": [
    "The Algebra system is smart enough to be able to do arithmetic with the operators"
   ]
  },
  {
   "cell_type": "markdown",
   "metadata": {},
   "source": [
    "We can generate $S_x$ and $S_y$ by taking linear combinations"
   ]
  },
  {
   "cell_type": "code",
   "execution_count": null,
   "metadata": {},
   "outputs": [],
   "source": [
    "sx=(1/2)*(sp+sm)\n",
    "display(sx)\n",
    "sy=(sp-sm)/2j\n",
    "display(sy)"
   ]
  },
  {
   "cell_type": "markdown",
   "metadata": {},
   "source": [
    "We can also multiply operators"
   ]
  },
  {
   "cell_type": "code",
   "execution_count": null,
   "metadata": {},
   "outputs": [],
   "source": [
    "spm=sp*sm\n",
    "display(spm)\n",
    "smp=sm*sp\n",
    "display(smp)"
   ]
  },
  {
   "cell_type": "code",
   "execution_count": null,
   "metadata": {},
   "outputs": [],
   "source": [
    "display(W)\n",
    "display(spm*W)\n",
    "display(smp*W)"
   ]
  },
  {
   "cell_type": "markdown",
   "metadata": {},
   "source": [
    "### Problems"
   ]
  },
  {
   "cell_type": "markdown",
   "metadata": {},
   "source": [
    "Generate operators which corresponds to $L_z, I_z,L_x,I_x,L_y,I_y$.  Call them Lz, Lp, Lm and Iz, Ip, Im.  See what $L_z I_z$ does to each of the states p1, p2 ,p3.  "
   ]
  },
  {
   "cell_type": "code",
   "execution_count": null,
   "metadata": {},
   "outputs": [],
   "source": []
  },
  {
   "cell_type": "markdown",
   "metadata": {},
   "source": [
    "Are the three states p1,p2,p3 closed under the operation $L_z I_z$?"
   ]
  },
  {
   "cell_type": "markdown",
   "metadata": {},
   "source": []
  },
  {
   "cell_type": "markdown",
   "metadata": {},
   "source": [
    "Now try acting on the states p1, p2, p3 with the product  $L_+ I_-$."
   ]
  },
  {
   "cell_type": "code",
   "execution_count": null,
   "metadata": {},
   "outputs": [],
   "source": []
  },
  {
   "cell_type": "markdown",
   "metadata": {},
   "source": [
    "Are the states closed under that operation?"
   ]
  },
  {
   "cell_type": "markdown",
   "metadata": {},
   "source": []
  },
  {
   "cell_type": "markdown",
   "metadata": {},
   "source": [
    "Try acting on the states p1, p2, p3 with the product  Lm Ip."
   ]
  },
  {
   "cell_type": "code",
   "execution_count": null,
   "metadata": {},
   "outputs": [],
   "source": []
  },
  {
   "cell_type": "markdown",
   "metadata": {},
   "source": [
    "Finally try $L_z-I_z$."
   ]
  },
  {
   "cell_type": "code",
   "execution_count": null,
   "metadata": {},
   "outputs": [],
   "source": []
  },
  {
   "cell_type": "markdown",
   "metadata": {},
   "source": [
    "Generate operators $F_x=L_x+I_x$, $F_y=L_y+I_y$, $F_z=L_z+I_z$, and $F^2=F_xF_x+F_yF_y+F_zF_z$.  Under which of these 4 operations are the states p1,p2,p3 closed?  You will probably need a few cells.  "
   ]
  },
  {
   "cell_type": "code",
   "execution_count": null,
   "metadata": {},
   "outputs": [],
   "source": []
  },
  {
   "cell_type": "markdown",
   "metadata": {},
   "source": [
    "Physically, the space defined by p1, p2, and p3, is defined by having a fixed value of $F_z$.  Therefore any operator which commutes with $F_z$ will map it onto itself."
   ]
  },
  {
   "cell_type": "markdown",
   "metadata": {},
   "source": [
    "### Matrix Representations"
   ]
  },
  {
   "cell_type": "markdown",
   "metadata": {},
   "source": [
    "Given a closed set of states, one can represent the action of an operator on those states as a matrix.  We have a function which does that for us"
   ]
  },
  {
   "cell_type": "code",
   "execution_count": null,
   "metadata": {},
   "outputs": [],
   "source": [
    "display(S0)\n",
    "display(S1)\n",
    "szmat1=matrixrep(sz,[S0,S1])\n",
    "szmat1"
   ]
  },
  {
   "cell_type": "code",
   "execution_count": null,
   "metadata": {},
   "outputs": [],
   "source": [
    "sxmat1=matrixrep(sx,[S0,S1])\n",
    "sxmat1"
   ]
  },
  {
   "cell_type": "markdown",
   "metadata": {},
   "source": [
    "Assuming the matrix is Hermitian, we can use <tt>eigh</tt> to find the eigenvalues and eigenvectors of that matrix.  [If you want the eigenvalues of a non-Hermitian matrix you can use <tt>eig</tt>.]"
   ]
  },
  {
   "cell_type": "code",
   "execution_count": null,
   "metadata": {},
   "outputs": [],
   "source": [
    "ex1=eigh(sxmat1)\n",
    "ex1"
   ]
  },
  {
   "cell_type": "markdown",
   "metadata": {},
   "source": [
    "We can get the wavefunction corresponding to an eigenvector with something like:"
   ]
  },
  {
   "cell_type": "code",
   "execution_count": null,
   "metadata": {},
   "outputs": [],
   "source": [
    "ex1[1][:,0].dot([S0,S1])"
   ]
  },
  {
   "cell_type": "code",
   "execution_count": null,
   "metadata": {},
   "outputs": [],
   "source": [
    "ex1[1][:,1].dot([S0,S1])"
   ]
  },
  {
   "cell_type": "markdown",
   "metadata": {},
   "source": [
    "Finally, we can compose operators either as matrices or as operators"
   ]
  },
  {
   "cell_type": "code",
   "execution_count": null,
   "metadata": {},
   "outputs": [],
   "source": [
    "matrixrep(sx*sz,[S0,S1])"
   ]
  },
  {
   "cell_type": "code",
   "execution_count": null,
   "metadata": {},
   "outputs": [],
   "source": [
    "sxmat1.dot(szmat1)"
   ]
  },
  {
   "cell_type": "markdown",
   "metadata": {},
   "source": [
    "### Problems"
   ]
  },
  {
   "cell_type": "markdown",
   "metadata": {},
   "source": [
    "What are the eigenvalues of $F^2$ in the space spanned by p1,p2,p3?  "
   ]
  },
  {
   "cell_type": "code",
   "execution_count": null,
   "metadata": {},
   "outputs": [],
   "source": []
  },
  {
   "cell_type": "markdown",
   "metadata": {},
   "source": [
    "Since $F$ is an angular momentum operator,  we expect $F^2$ to have eigenvalues $f(f+1)$.  [You should have seen this in 3316 -- if not you will prove it in 4443.]  What are the values of $f$ that you find?"
   ]
  },
  {
   "cell_type": "code",
   "execution_count": null,
   "metadata": {},
   "outputs": [],
   "source": []
  },
  {
   "cell_type": "markdown",
   "metadata": {},
   "source": [
    "### More Problems"
   ]
  },
  {
   "cell_type": "markdown",
   "metadata": {},
   "source": [
    "Generate an operator $R_+=L_+ I_-$.  What does it do to the states p1,p2,p3? (you already did this -- but we need the symbol Rp)."
   ]
  },
  {
   "cell_type": "code",
   "execution_count": null,
   "metadata": {},
   "outputs": [],
   "source": []
  },
  {
   "cell_type": "markdown",
   "metadata": {},
   "source": [
    "Returning to your operator $R_+$:  Can you create two more operators $R_-$ and $R_z$ which obey the Angular momentum commutation relations?  Verify that this works by generating the matrices on the space spanned by p1,p2,p3, and explicitly calculating the commutation relations.  [FYI -- this means that the states p1,p2,p3 transform under the $R$-operators a spin-1 object.  This is known as the \"Majorana\" representation of spin 1.]"
   ]
  },
  {
   "cell_type": "code",
   "execution_count": null,
   "metadata": {},
   "outputs": [],
   "source": []
  },
  {
   "cell_type": "markdown",
   "metadata": {},
   "source": [
    "### Standard Basis"
   ]
  },
  {
   "cell_type": "markdown",
   "metadata": {},
   "source": [
    "Often we will want all the states with some total spin"
   ]
  },
  {
   "cell_type": "code",
   "execution_count": null,
   "metadata": {},
   "outputs": [],
   "source": [
    "lb1=spinbasis(\"L\",1)\n",
    "for state in lb1:\n",
    "    display(state)"
   ]
  },
  {
   "cell_type": "code",
   "execution_count": null,
   "metadata": {},
   "outputs": [],
   "source": [
    "for state in lb1:\n",
    "    display(lz*state)"
   ]
  },
  {
   "cell_type": "code",
   "execution_count": null,
   "metadata": {},
   "outputs": [],
   "source": [
    "sb12=spinbasis(\"S\",1/2)\n",
    "for state in sb12:\n",
    "    display(state)"
   ]
  },
  {
   "cell_type": "markdown",
   "metadata": {},
   "source": [
    "We can also generate product spaces"
   ]
  },
  {
   "cell_type": "code",
   "execution_count": null,
   "metadata": {},
   "outputs": [],
   "source": [
    "prod1=productbasis(lb1,sb12)"
   ]
  },
  {
   "cell_type": "code",
   "execution_count": null,
   "metadata": {},
   "outputs": [],
   "source": [
    "for state in prod1:\n",
    "    display(state)"
   ]
  },
  {
   "cell_type": "markdown",
   "metadata": {},
   "source": [
    "### Problem"
   ]
  },
  {
   "cell_type": "markdown",
   "metadata": {},
   "source": [
    "Generate matrix representations of the operators $J_x,J_y,$ and $J_z$ on the product space prod1, where $\\bf J=S+L$, $S$ is a spin-1/2, and $L$ is a spin-1."
   ]
  },
  {
   "cell_type": "code",
   "execution_count": null,
   "metadata": {},
   "outputs": [],
   "source": []
  },
  {
   "cell_type": "markdown",
   "metadata": {},
   "source": [
    "Find the allowed values of $j$ on this space, where $j(j+1)$ corresponds to the eigenvalue of $J^2$. "
   ]
  },
  {
   "cell_type": "code",
   "execution_count": null,
   "metadata": {},
   "outputs": [],
   "source": []
  },
  {
   "cell_type": "markdown",
   "metadata": {},
   "source": [
    "# Bonus: Hyperfine Structure of Rubidium"
   ]
  },
  {
   "cell_type": "markdown",
   "metadata": {},
   "source": [
    "The electronic and nuclear spins in the ground state of Rubidum are described by a model"
   ]
  },
  {
   "cell_type": "markdown",
   "metadata": {},
   "source": [
    "$$H={\\bf S\\cdot I} - B S_z$$"
   ]
  },
  {
   "cell_type": "markdown",
   "metadata": {},
   "source": [
    "Where B is the dimensionless magnetic field in the z-direction.  $\\bf S$ and $\\bf I$ represent the electronic and nuclear spins (which are spin-1/2 and spin-3/2 objects)"
   ]
  },
  {
   "cell_type": "markdown",
   "metadata": {},
   "source": [
    "This Hamiltonian lives in an 8-dimensional Hilbert space.  Here you will calculate how the energy eigenstates evolve with magnetic field."
   ]
  },
  {
   "cell_type": "markdown",
   "metadata": {},
   "source": [
    "First we need to generate the operators"
   ]
  },
  {
   "cell_type": "code",
   "execution_count": null,
   "metadata": {},
   "outputs": [],
   "source": [
    "sz=Sz(\"S\")\n",
    "display(sz)\n",
    "sp=Splus(\"S\")\n",
    "display(sp)\n",
    "sm=Sminus(\"S\")\n",
    "display(sm)\n",
    "iz=Sz(\"I\")\n",
    "display(iz)\n",
    "ip=Splus(\"I\")\n",
    "display(ip)\n",
    "im=Sminus(\"I\")\n",
    "display(im)"
   ]
  },
  {
   "cell_type": "code",
   "execution_count": null,
   "metadata": {},
   "outputs": [],
   "source": [
    "sx=(sp+sm)/2\n",
    "sy=(sp-sm)/(2j)\n",
    "ix=(ip+im)/2\n",
    "iy=(ip-im)/(2j)"
   ]
  },
  {
   "cell_type": "code",
   "execution_count": null,
   "metadata": {},
   "outputs": [],
   "source": [
    "def paschenbachHam(b):\n",
    "    return -b*sz+(sx*ix+sy*iy+sz*iz)"
   ]
  },
  {
   "cell_type": "code",
   "execution_count": null,
   "metadata": {},
   "outputs": [],
   "source": [
    "sb12=spinbasis(\"S\",1/2)\n",
    "ib32=spinbasis(\"I\",3/2)\n",
    "rbhilbertspace=productbasis(sb12,ib32)\n",
    "for state in rbhilbertspace:\n",
    "    display(state)"
   ]
  },
  {
   "cell_type": "code",
   "execution_count": null,
   "metadata": {},
   "outputs": [],
   "source": [
    "def rbmat(b):\n",
    "    rbham=paschenbachHam(b)\n",
    "    return matrixrep(rbham,rbhilbertspace)"
   ]
  },
  {
   "cell_type": "code",
   "execution_count": null,
   "metadata": {},
   "outputs": [],
   "source": [
    "from showmat import showmat"
   ]
  },
  {
   "cell_type": "code",
   "execution_count": null,
   "metadata": {},
   "outputs": [],
   "source": [
    "showmat(rbmat(0.))"
   ]
  },
  {
   "cell_type": "code",
   "execution_count": null,
   "metadata": {},
   "outputs": [],
   "source": [
    "showmat(rbmat(0.2))"
   ]
  },
  {
   "cell_type": "code",
   "execution_count": null,
   "metadata": {},
   "outputs": [],
   "source": [
    "def rbenergies(b):\n",
    "    mat=rbmat(b)\n",
    "    en=eigvalsh(mat)\n",
    "    return real(en)"
   ]
  },
  {
   "cell_type": "code",
   "execution_count": null,
   "metadata": {},
   "outputs": [],
   "source": [
    "blist = arange(0,5,0.1)\n",
    "elist=array([rbenergies(b) for b in blist])\n",
    "for e in elist:\n",
    "    plot(blist,elist)\n",
    "title(\"Hyperfine spectrum of Rubidium\")\n",
    "xlabel(\"dimensionless B\")\n",
    "ylabel(\"dimensionless E\")"
   ]
  },
  {
   "cell_type": "markdown",
   "metadata": {},
   "source": [
    "<strong> Bonus Problem: </strong> Repeat for Lithium (with $I=1$ and $S=1/2$)"
   ]
  },
  {
   "cell_type": "code",
   "execution_count": null,
   "metadata": {},
   "outputs": [],
   "source": []
  },
  {
   "cell_type": "markdown",
   "metadata": {},
   "source": [
    "## Bonus Application 2: Mesons"
   ]
  },
  {
   "cell_type": "markdown",
   "metadata": {},
   "source": [
    "[There are not any problems in this section -- its just for fun.]"
   ]
  },
  {
   "cell_type": "markdown",
   "metadata": {},
   "source": [
    "Mesons are the \"hydrogen atoms\" of particle physics.  They are essentially a bound state of a quark and an antiquark.  (Just like hydrogen is a bound state of a proton and an electron.)  You probably know that there are 6 quarks: up, down, strange, charm, bottom, top.  These are listed in order of increasing energy.  At low energies you just see up and down quarks.  The quark components of the low energy mesons are then: $u\\bar u$, $u\\bar d$, $d\\bar u$ and $d\\bar d$ -- where the bar is on the antiquark."
   ]
  },
  {
   "cell_type": "markdown",
   "metadata": {},
   "source": [
    "One can think of the $u-d$ label as a two-level system -- and represent it as a spin-1/2 object.  We call this Isospin:  u corresponds to the isospin mz=1/2 state and d corresponds to the isospin mz=-1/2 state.  The following code patches our spin class so that the display is more appropriate for isospin.  Don't worry about the details -- it is the same object that we have been working with, just displayed differently."
   ]
  },
  {
   "cell_type": "code",
   "execution_count": null,
   "metadata": {},
   "outputs": [],
   "source": [
    "class isospin(BasisState):\n",
    "    \n",
    "    def _repr_latex_(self):\n",
    "        if self.mz>0:\n",
    "            iso=\"u\"\n",
    "        else:\n",
    "            iso=\"d\"\n",
    "        return r\"$(\"+iso+\")$\""
   ]
  },
  {
   "cell_type": "code",
   "execution_count": null,
   "metadata": {},
   "outputs": [],
   "source": [
    "upquark=isospin(name=\"q\",spin=1/2,mz=1/2)\n",
    "display(upquark)\n",
    "downquark=isospin(name=\"q\",spin=1/2,mz=-1/2)\n",
    "display(downquark)"
   ]
  },
  {
   "cell_type": "markdown",
   "metadata": {},
   "source": [
    "These two states form an \"isospin doublet\".  Why is this useful?  Well the argument is that the strong interaction is roughly symmetric in isospin space:  the strong interaction between two up quarks is the same as the strong interaction between an up and a down.  Not only that, but if the symmetry exists, then knowing the interaction between two up quarks tells you something about the interaction between and up and a down.  For example if there is a bound $q\\bar q$ meson with isospin $1$, then there must be 3.  (They form a triplet).  Another consequence\n",
    " is that the various components of isospin are conserved by the strong interaction."
   ]
  },
  {
   "cell_type": "markdown",
   "metadata": {},
   "source": [
    "[The up and the down quarks have different masses and charges, so clearly isospin cannot be a full symmetry of nature, but it is an approximate symmetry.]"
   ]
  },
  {
   "cell_type": "markdown",
   "metadata": {},
   "source": [
    "The conservation of the z-component of isospin is a consequence of the fact that the total number of up-quarks, minus the total number of up-antiquarks is conserved.  This seems sensible.  Thus we give oposite spin labels to the antiquarks.  To make the printing pretty, we introduce yet another modification of our spin class to represent the antiquarks. "
   ]
  },
  {
   "cell_type": "code",
   "execution_count": null,
   "metadata": {},
   "outputs": [],
   "source": [
    "class antiisospin(BasisState):\n",
    "    \n",
    "    def _repr_latex_(self):\n",
    "        if self.mz>0:\n",
    "            iso=\"-\\\\bar{d}\"\n",
    "        else:\n",
    "            iso=\"\\\\bar{u}\"\n",
    "        return r\"$(\"+iso+\")$\""
   ]
  },
  {
   "cell_type": "code",
   "execution_count": null,
   "metadata": {},
   "outputs": [],
   "source": [
    "antiup=antiisospin(name=\"\\\\bar{q}\",spin=1/2,mz=-1/2)\n",
    "display(antiup)\n",
    "antidown=-antiisospin(name=\"\\\\bar{q}\",spin=1/2,mz=1/2)\n",
    "display(antidown)"
   ]
  },
  {
   "cell_type": "markdown",
   "metadata": {},
   "source": [
    "Note the wierd minus sign.  This is just convention -- it turns out it makes some other stuff easier if we define the anti-down state as the negative of a member of an iso-spin doublet.  [It turns out we have had a number of arbitrary phases which we have set equal to 0 -- this is just setting one of them to $\\pi$.]"
   ]
  },
  {
   "cell_type": "markdown",
   "metadata": {},
   "source": [
    "Lets now define the iso-angular momentum operators for the quark and the antiquark"
   ]
  },
  {
   "cell_type": "code",
   "execution_count": null,
   "metadata": {},
   "outputs": [],
   "source": [
    "quarkz=Sz(\"q\")\n",
    "quarkp=Splus(\"q\")\n",
    "quarkm=Sminus(\"q\")\n",
    "antiquarkz=Sz(\"\\\\bar{q}\")\n",
    "antiquarkp=Splus(\"\\\\bar{q}\")\n",
    "antiquarkm=Sminus(\"\\\\bar{q}\")"
   ]
  },
  {
   "cell_type": "markdown",
   "metadata": {},
   "source": [
    "If isospin is a symmetry, then the Hamiltonian can only depend on the total isospin, so we should generate total isospin operators"
   ]
  },
  {
   "cell_type": "code",
   "execution_count": null,
   "metadata": {},
   "outputs": [],
   "source": [
    "isoz=quarkz+antiquarkz\n",
    "isop=quarkp+antiquarkp\n",
    "isom=quarkm+antiquarkm"
   ]
  },
  {
   "cell_type": "markdown",
   "metadata": {},
   "source": [
    "Next lets make the $x$ and $y$ components"
   ]
  },
  {
   "cell_type": "code",
   "execution_count": null,
   "metadata": {},
   "outputs": [],
   "source": [
    "isox=(isop+isom)/2\n",
    "isoy=(isop-isom)/2j"
   ]
  },
  {
   "cell_type": "markdown",
   "metadata": {},
   "source": [
    "We can come up with matrix representations of these operators if we produce a basis (yes the minus signs are wierd -- again it is just convention, and I did not work hard enough on the \"pretty printing\" to have two minuses turn into a plus.)"
   ]
  },
  {
   "cell_type": "code",
   "execution_count": null,
   "metadata": {},
   "outputs": [],
   "source": [
    "singletmesonbasis=productbasis([antidown,antiup],[upquark,downquark])\n",
    "for state in singletmesonbasis:\n",
    "    display(state)"
   ]
  },
  {
   "cell_type": "markdown",
   "metadata": {},
   "source": [
    "We can generate matrix representations of our total isospin operators"
   ]
  },
  {
   "cell_type": "code",
   "execution_count": null,
   "metadata": {},
   "outputs": [],
   "source": [
    "iz=matrixrep(isoz,singletmesonbasis)\n",
    "ip=matrixrep(isop,singletmesonbasis)\n",
    "im=matrixrep(isom,singletmesonbasis)\n",
    "ix=(ip+im)/2.\n",
    "iy=(ip-im)/2.j"
   ]
  },
  {
   "cell_type": "markdown",
   "metadata": {},
   "source": [
    "The Hamiltonian must be iso-rotationally invarient, so aside from a constant term, can only be proportional to "
   ]
  },
  {
   "cell_type": "code",
   "execution_count": null,
   "metadata": {},
   "outputs": [],
   "source": [
    "isq=ix.dot(ix)+iy.dot(iy)+iz.dot(iz)\n",
    "real(isq)"
   ]
  },
  {
   "cell_type": "markdown",
   "metadata": {},
   "source": [
    "If we diagonalize this -- not surprisingly we get an iso-singlet and and iso-triplet"
   ]
  },
  {
   "cell_type": "code",
   "execution_count": null,
   "metadata": {},
   "outputs": [],
   "source": [
    "eigh(isq)"
   ]
  },
  {
   "cell_type": "markdown",
   "metadata": {},
   "source": [
    "If one does an experiment one finds the lightest pseudo-scalar mesons are \"pions\" -- and as luck would have it, there are three of them  ($\\pi^+,\\pi^0,\\pi^-$) with nearly the same mass (130MeV).  These must be the iso-triplet."
   ]
  },
  {
   "cell_type": "markdown",
   "metadata": {},
   "source": [
    "Unfortunately, we don't see an isolated meson which can be identified as the singlet.  Instead all of the next-most heavy mesons all contain strange quarks (we see 4 Kaons with energy around 500MeV) the $\\eta$, with energy $550MeV$ and the $\\eta^\\prime$, with energy $1000MeV$."
   ]
  },
  {
   "cell_type": "markdown",
   "metadata": {},
   "source": [
    "What happens is that the isospin singlet which we found $u\\bar{d}+d\\bar{u}$ hybridizes with another isospin singlet: $s\\bar{s}$.  The resulting two states are the $\\eta=u\\bar{u}+d\\bar{d}-2s\\bar{s}$ and the $\\eta^\\prime=u\\bar{u}+d\\bar{d}+s\\bar{s}$."
   ]
  },
  {
   "cell_type": "markdown",
   "metadata": {},
   "source": [
    "Given that the Kaons, and the $\\eta$ all have roughly the same energy, there must be some interesting symmetry.  [Remember, degeneracies imply symmetries.]  If we generalize our spin argument from having two equivalent states ($u$,$d$) to three ($u,d,s$), we can explain the degeneracies:  The symmetry group for rotations is known as $SU(2)$, while this larger symmetry is known as $SU(3)$.  Instead of singlets and triplets... one gets singlets, octets..."
   ]
  },
  {
   "cell_type": "markdown",
   "metadata": {},
   "source": [
    "The pions, Kaons, and $\\eta$ form an octet.  The $\\eta^\\prime$ is a singlet.  The $SU(3)$ symmetry is just approximate (the $s$ quark is quite a bit heavier than the $u$ and $d$), so the octet is further split -- just as fine structure interaction splits the levels of hydogen. "
   ]
  }
 ],
 "metadata": {
  "kernelspec": {
   "display_name": "Python [conda env:py36]",
   "language": "python",
   "name": "conda-env-py36-py"
  },
  "language_info": {
   "codemirror_mode": {
    "name": "ipython",
    "version": 3
   },
   "file_extension": ".py",
   "mimetype": "text/x-python",
   "name": "python",
   "nbconvert_exporter": "python",
   "pygments_lexer": "ipython3",
   "version": "3.6.5"
  }
 },
 "nbformat": 4,
 "nbformat_minor": 1
}
