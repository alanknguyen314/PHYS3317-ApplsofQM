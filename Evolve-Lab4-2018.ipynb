{
 "cells": [
  {
   "cell_type": "markdown",
   "metadata": {},
   "source": [
    "# PHYS 3317 -- Time Evolution"
   ]
  },
  {
   "cell_type": "markdown",
   "metadata": {},
   "source": [
    "Upload completed notebook to Blackboard at end of recitation section (or before next recitation if you do not complete it during the recitation period)"
   ]
  },
  {
   "cell_type": "markdown",
   "metadata": {},
   "source": [
    "<font color=\"red\"><em> Please double click on this cell, and replace its contents with your name </em></font>"
   ]
  },
  {
   "cell_type": "markdown",
   "metadata": {},
   "source": [
    "<font color=\"blue\"> This exercise is longer than the previous three.  I recommend first going through it with an eye for speed:  there are quite a few places where I give snippits of code.  You do not need to understand each line to use them -- most of the time you can get away with just copy and pasting, and making a few quick changes.  Once you have made it through, you can then start asking \"why\" certain notation works.</font>"
   ]
  },
  {
   "cell_type": "markdown",
   "metadata": {},
   "source": [
    "<font color=\"blue\">Given the length, we will work through this notebook as a group.  Feel free to follow along, or work on your own.</font>"
   ]
  },
  {
   "cell_type": "markdown",
   "metadata": {},
   "source": [
    "In this notebook we will solve the time dependent Schrodinger equation."
   ]
  },
  {
   "cell_type": "markdown",
   "metadata": {},
   "source": [
    "$$i\\hbar \\partial_t \\psi(x,t)=-\\frac{\\hbar^2}{2m} \\partial_x^2 \\psi(x,t)+V(x) \\psi(x,t)$$"
   ]
  },
  {
   "cell_type": "markdown",
   "metadata": {},
   "source": [
    "The first step is discretizing space, allowing us to replace the functions $\\psi(x)$ with vectors $\\vec\\psi$,"
   ]
  },
  {
   "cell_type": "markdown",
   "metadata": {},
   "source": [
    "$$i \\partial_t\\vec \\psi(t)=H\\vec\\psi(t)$$"
   ]
  },
  {
   "cell_type": "markdown",
   "metadata": {},
   "source": [
    "where we have decided to use units where $\\hbar=1$. "
   ]
  },
  {
   "cell_type": "markdown",
   "metadata": {},
   "source": [
    "The next step is to make a finite difference in time.  There are two Canonical choices that you might have seen:"
   ]
  },
  {
   "cell_type": "markdown",
   "metadata": {},
   "source": [
    "$$ \\mbox{ Euler:}\\quad i\\frac{\\vec\\psi(t+\\delta t)-\\vec \\psi(t)}{\\delta t}= H\\vec\\psi(t)$$"
   ]
  },
  {
   "cell_type": "markdown",
   "metadata": {},
   "source": [
    "$$\\mbox{ Backwards Euler:}\\quad i\\frac{\\vec\\psi(t)-\\vec \\psi(t-\\delta t)}{\\delta t}= H\\vec\\psi(t)$$"
   ]
  },
  {
   "cell_type": "markdown",
   "metadata": {},
   "source": [
    "The Euler method is known as an Explicit method, because it gives $\\psi(t+\\delta t)$ as an explicit function of $\\psi(t)$:"
   ]
  },
  {
   "cell_type": "markdown",
   "metadata": {},
   "source": [
    "$$\\mbox{Euler:}\\quad \\vec\\psi(t+\\delta t)=\\left(1-i H \\delta t\\right)\\vec\\psi(t)$$"
   ]
  },
  {
   "cell_type": "markdown",
   "metadata": {},
   "source": [
    "where the expression in parentheses is just a matrix -- which you know how to construct"
   ]
  },
  {
   "cell_type": "markdown",
   "metadata": {},
   "source": [
    "The Backwards Euler is known as an Implicit method, because it gives a set of linear equations which must be solved to increment time:"
   ]
  },
  {
   "cell_type": "markdown",
   "metadata": {},
   "source": [
    "$$\\mbox{Backward Euler:}\\quad \\left(1+i H \\delta t\\right)\\vec\\psi(t+\\delta t)=\\vec\\psi(t)$$"
   ]
  },
  {
   "cell_type": "markdown",
   "metadata": {},
   "source": [
    "In principle you can increment $\\psi$ by inverting the matrix in parentheses.  In practice it is more efficient to solve this by using Gaussian Elimination."
   ]
  },
  {
   "cell_type": "markdown",
   "metadata": {},
   "source": [
    "Both the Euler and Backwards Euler methods suffer from numerical stability issues:  the normalization of the wavefunction is not conserved.  This can be solved by using a Semi-Implicit method:"
   ]
  },
  {
   "cell_type": "markdown",
   "metadata": {},
   "source": [
    "$$ \\mbox{ Semi-Implicit:}\\quad i\\frac{\\vec\\psi(t+\\delta t)-\\vec \\psi(t)}{\\delta t}= H\\frac{\\vec\\psi(t+\\delta t)+\\vec\\psi(t)}{2}$$"
   ]
  },
  {
   "cell_type": "markdown",
   "metadata": {},
   "source": [
    "This can be rewritten as"
   ]
  },
  {
   "cell_type": "markdown",
   "metadata": {},
   "source": [
    "$$\\mbox{Semi-Implicit:}\\quad \\left(1+\\frac{i H \\delta t}{2}\\right)\\vec\\psi(t+\\delta t)= \\left(1-\\frac{i H \\delta t}{2}\\right)\\vec\\psi(t)$$"
   ]
  },
  {
   "cell_type": "markdown",
   "metadata": {},
   "source": [
    "We will implement this semi-implicit technique -- last recitation we inverted the matrix by hand.  Here we will instead use row reduction to solve this matrix equation at each step."
   ]
  },
  {
   "cell_type": "markdown",
   "metadata": {},
   "source": [
    "## Implementation"
   ]
  },
  {
   "cell_type": "markdown",
   "metadata": {},
   "source": [
    "We wish to solve"
   ]
  },
  {
   "cell_type": "markdown",
   "metadata": {},
   "source": [
    "$$\\left(1+\\frac{i H \\delta t}{2}\\right)\\vec\\psi(t+\\delta t)= \\left(1-\\frac{i H \\delta t}{2}\\right)\\vec\\psi(t)$$"
   ]
  },
  {
   "cell_type": "markdown",
   "metadata": {},
   "source": [
    "First we need our Hamiltonian Matrix.  We will use the finite differences approach to produce a matrix which acts on discretized wavefunctions.  "
   ]
  },
  {
   "cell_type": "markdown",
   "metadata": {},
   "source": [
    "We will store $H$ as a <em>Sparse</em> matrix.  If you do not remember what that means, you should look back at lab 2."
   ]
  },
  {
   "cell_type": "code",
   "execution_count": null,
   "metadata": {},
   "outputs": [],
   "source": [
    "%pylab inline"
   ]
  },
  {
   "cell_type": "code",
   "execution_count": null,
   "metadata": {},
   "outputs": [],
   "source": [
    "from __future__ import division  #get rid of integer division bug\n",
    "from scipy.sparse import *  # loads the functions to deal with sparse matrices\n",
    "from showmat import showmat # loads display functions \n",
    "# if you get an error message, download showmat.py and put in directory with notebooks"
   ]
  },
  {
   "cell_type": "markdown",
   "metadata": {},
   "source": [
    "First we make a function which generates the finite difference approximation to the second derivative.  You generated something like this in one of your homeworks."
   ]
  },
  {
   "cell_type": "code",
   "execution_count": null,
   "metadata": {},
   "outputs": [],
   "source": [
    "# you don't need to do anything here -- just hit shift-enter\n",
    "def SecondDerivMatrix(numpoints,dx,periodic) : \n",
    "    \"\"\"SecondDerivMatrix(numpoints,dx,periodic) returns a sparse matrix\n",
    "    which represents the second derivative -- using a 3-point derivative.  \n",
    "\n",
    "    It takes periodic needed arguments:\n",
    "    numpoints -- an integer which is how many points are in the grid\n",
    "    dx -- the real space lattice spacing\n",
    "    periodic -- do we use periodic boundary conditions?\n",
    "\n",
    "    Setting periodic to \"False\" will give \"hard wall boundaries\"\n",
    "    \"\"\"\n",
    "    unitlist=ones(numpoints)  # just a list of 1's whose length is equal to the length of the grid\n",
    "    if periodic :\n",
    "        return dia_matrix(       # we are generating a sparse matrix by specifying the diagonals\n",
    "            ((unitlist/(dx**2),unitlist/(dx**2),-2*unitlist/(dx**2),unitlist/(dx**2),unitlist/(dx**2)),\n",
    "            (1,-1,0,numpoints-1,1-numpoints)),  # this line specifies which the diagonals\n",
    "            shape=(numpoints,numpoints))\n",
    "    else :\n",
    "        return dia_matrix(       # we are generating a sparse matrix by specifying the diagonals\n",
    "            ((unitlist/(dx**2),unitlist/(dx**2),-2*unitlist/(dx**2)),\n",
    "            (1,-1,0)),  # this line specifies which the diagonals\n",
    "            shape=(numpoints,numpoints))"
   ]
  },
  {
   "cell_type": "markdown",
   "metadata": {},
   "source": [
    "To make this concrete lets generate examples"
   ]
  },
  {
   "cell_type": "code",
   "execution_count": null,
   "metadata": {},
   "outputs": [],
   "source": [
    "sm=SecondDerivMatrix(numpoints=9,dx=0.5,periodic=False) #make an example"
   ]
  },
  {
   "cell_type": "code",
   "execution_count": null,
   "metadata": {},
   "outputs": [],
   "source": [
    "showmat(sm.todense()) # look at it"
   ]
  },
  {
   "cell_type": "markdown",
   "metadata": {},
   "source": [
    "If that expression does not make sense, look at the \"Finite Difference Approximation\" notebook."
   ]
  },
  {
   "cell_type": "markdown",
   "metadata": {},
   "source": [
    "Here is the same thing, but with periodic boundary conditions"
   ]
  },
  {
   "cell_type": "code",
   "execution_count": null,
   "metadata": {},
   "outputs": [],
   "source": [
    "sm2=SecondDerivMatrix(numpoints=9,dx=0.5,periodic=True) #make an example"
   ]
  },
  {
   "cell_type": "code",
   "execution_count": null,
   "metadata": {},
   "outputs": [],
   "source": [
    "showmat(sm2) # look at it"
   ]
  },
  {
   "cell_type": "markdown",
   "metadata": {},
   "source": [
    "<font color=red>What is the difference between the case with and without periodic boundary conditions? </font> "
   ]
  },
  {
   "cell_type": "markdown",
   "metadata": {},
   "source": [
    "<font color=red>Write your answer here</font>"
   ]
  },
  {
   "cell_type": "markdown",
   "metadata": {},
   "source": [
    "Next we make a function which generates the finite difference approximation to the operator V(x).  This is a diagonal matrix:"
   ]
  },
  {
   "cell_type": "markdown",
   "metadata": {},
   "source": [
    "$$\n",
    "\\left(\n",
    "\\begin{array}{ccccc}\n",
    "V(x_1)&0&\\cdots&&\\cr\n",
    "0&V(x_2)&0&0&\\cdots\\cr\n",
    "0&0&V(x_3)&0&\\cdots\\cr\n",
    "\\vdots\\cr\n",
    "\\vdots&&&&V(x_n)\n",
    "\\end{array}\n",
    "\\right)\n",
    "\\left(\n",
    "\\begin{array}{c}\n",
    "\\psi(x_1)\\cr\n",
    "\\psi(x_2)\\cr\n",
    "\\psi(x_3)\\cr\n",
    "\\vdots\\cr\n",
    "\\psi(x_n)\n",
    "\\end{array}\n",
    "\\right)=\n",
    "\\left(\n",
    "\\begin{array}{c}\n",
    "V(x_1)\\psi(x_1)\\cr\n",
    "V(x_2)\\psi(x_2)\\cr\n",
    "V(x_3)\\psi(x_3)\\cr\n",
    "\\vdots\\cr\n",
    "V(x_n)\\psi(x_n)\n",
    "\\end{array}\\right)\n",
    "$$\n"
   ]
  },
  {
   "cell_type": "code",
   "execution_count": null,
   "metadata": {},
   "outputs": [],
   "source": [
    "def PotentialMatrix(potential):\n",
    "    \"\"\"PotentialMatrix(potential)\n",
    "    generates a finite difference approximation to the operator V(x).\n",
    "    It is called by the following arguments:\n",
    "    potential -- the list of the potential values\n",
    "    \"\"\"\n",
    "\n",
    "    ln=len(potential)\n",
    "    return dia_matrix((potential,0),shape=(ln,ln))"
   ]
  },
  {
   "cell_type": "markdown",
   "metadata": {},
   "source": [
    "Next, we want an example potential matrix -- lets use a harmonic oscillator"
   ]
  },
  {
   "cell_type": "code",
   "execution_count": null,
   "metadata": {},
   "outputs": [],
   "source": [
    "xlist=arange(-2,2,0.5)\n",
    "xlist"
   ]
  },
  {
   "cell_type": "code",
   "execution_count": null,
   "metadata": {},
   "outputs": [],
   "source": [
    "vlist=xlist**2/2\n",
    "vlist"
   ]
  },
  {
   "cell_type": "code",
   "execution_count": null,
   "metadata": {},
   "outputs": [],
   "source": [
    "pm=PotentialMatrix(vlist)\n",
    "showmat(pm.todense())"
   ]
  },
  {
   "cell_type": "markdown",
   "metadata": {},
   "source": [
    "Finally we put it all together"
   ]
  },
  {
   "cell_type": "code",
   "execution_count": null,
   "metadata": {},
   "outputs": [],
   "source": [
    "# just hit shift-enter.  \n",
    "\n",
    "def HamiltonianMatrix(potential,dx,periodic=True,hbar=1,mass=1):\n",
    "    \"\"\"HamiltonianMatrix(potential,dx,hbar=1,mass=1)\n",
    "    generates a finite difference approximation to the hamiltonian operator H\n",
    "    for the case of a single particle in a potential V(x)\n",
    "\n",
    "    It is called by the following required arguments:\n",
    "    potential -- a list of values for the potential\n",
    "    dx -- the grid spacing\n",
    "    \n",
    "    It also has two optional arguments, which are assumed to be equal to unity if they\n",
    "    are not specified\n",
    "    hbar -- Planck's constant divided by 2 pi\n",
    "    mass -- the particle mass\n",
    "    \"\"\"\n",
    "    numpoints=len(potential)\n",
    "    kin=-(0.5*hbar**2/mass)*SecondDerivMatrix(numpoints=numpoints,dx=dx,periodic=periodic) # calculate kinetic energy operator\n",
    "    pot=PotentialMatrix(potential) #calculate potential energy operator\n",
    "    return kin+pot"
   ]
  },
  {
   "cell_type": "code",
   "execution_count": null,
   "metadata": {},
   "outputs": [],
   "source": [
    "showmat(HamiltonianMatrix(potential=vlist,dx=0.5,periodic=False))"
   ]
  },
  {
   "cell_type": "markdown",
   "metadata": {},
   "source": [
    "As another example, lets create a particle in a box Hamiltonian"
   ]
  },
  {
   "cell_type": "code",
   "execution_count": null,
   "metadata": {},
   "outputs": [],
   "source": [
    "xgrid=arange(0,pi,0.01*pi)\n",
    "pot=zeros(len(xgrid))\n",
    "\n",
    "hardwallham=HamiltonianMatrix(potential=pot,dx=0.01*pi,periodic=False)\n",
    "showmat(hardwallham[:20,:20].todense()) # shows the upper 20x20 block of the matrix "
   ]
  },
  {
   "cell_type": "markdown",
   "metadata": {},
   "source": [
    "<font color=red>Question: Why is this a \"particle in a box\" Hamiltonian?  The potential is zero everywhere. Answer in the next cell </font>"
   ]
  },
  {
   "cell_type": "markdown",
   "metadata": {},
   "source": []
  },
  {
   "cell_type": "markdown",
   "metadata": {},
   "source": [
    "<font color=red>In the following cell create a matrix which corresponds to a Harmonic oscillator Hamiltonian.  Use units where $\\omega=\\hbar=m=1$, take the minimum of the oscillator to be at $x=\\pi/2$, and use a grid with 100 points, with $0\\leq x\\leq \\pi$.  Use showmat to view the upper $20\\times20$ cells of the matrix</font>"
   ]
  },
  {
   "cell_type": "code",
   "execution_count": null,
   "metadata": {},
   "outputs": [],
   "source": []
  },
  {
   "cell_type": "markdown",
   "metadata": {},
   "source": [
    "Lets also create a wavepacket to start with"
   ]
  },
  {
   "cell_type": "code",
   "execution_count": null,
   "metadata": {},
   "outputs": [],
   "source": [
    "def wavepacket(xgrid,x,k,width):\n",
    "    return exp(1.j*k*xgrid-(xgrid-x)**2/(2*width**2))"
   ]
  },
  {
   "cell_type": "code",
   "execution_count": null,
   "metadata": {},
   "outputs": [],
   "source": [
    "wavefunction=wavepacket(xgrid,x=pi/2,k=30,width=pi/8)\n",
    "# plot it\n",
    "fill_between(xgrid,abs(wavefunction),-abs(wavefunction),alpha=1,color=\"yellow\")\n",
    "plot(xgrid,real(wavefunction),color=\"blue\")\n",
    "plot(xgrid,imag(wavefunction),color=\"red\")"
   ]
  },
  {
   "cell_type": "markdown",
   "metadata": {},
   "source": [
    "## Visualization"
   ]
  },
  {
   "cell_type": "markdown",
   "metadata": {},
   "source": [
    "We now load an animation package"
   ]
  },
  {
   "cell_type": "code",
   "execution_count": null,
   "metadata": {},
   "outputs": [],
   "source": [
    "%gui tk  \n",
    "# setup the ipython notebook so that it can generate graphics windows using the tk backend"
   ]
  },
  {
   "cell_type": "code",
   "execution_count": null,
   "metadata": {},
   "outputs": [],
   "source": [
    "import TDSEviewer3  # load the module that has the Schrodinger equation viewer\n",
    "from TDSEviewer3 import *  # loads those functions into the main namespace"
   ]
  },
  {
   "cell_type": "markdown",
   "metadata": {},
   "source": [
    "Run the following cell to create a viewer window.  A window should pop up.  The blue line represents the real part of the wavefunction, the green the imaginary"
   ]
  },
  {
   "cell_type": "code",
   "execution_count": null,
   "metadata": {},
   "outputs": [],
   "source": [
    "viewer=TDSEviewer(wavefunction=wavefunction,grid=xgrid)  # open up a viewer window"
   ]
  },
  {
   "cell_type": "markdown",
   "metadata": {},
   "source": [
    "The following cell resets the viewer window to its original state.  Run it whenever you want to reset things"
   ]
  },
  {
   "cell_type": "code",
   "execution_count": null,
   "metadata": {},
   "outputs": [],
   "source": [
    "viewer.wavefunction=wavefunction  \n",
    "viewer.updatelines()"
   ]
  },
  {
   "cell_type": "markdown",
   "metadata": {},
   "source": [
    "Lets now make a little program which animates a changing wavefunction.  This is just a made-up dynamics to illustrate how the program works"
   ]
  },
  {
   "cell_type": "code",
   "execution_count": null,
   "metadata": {},
   "outputs": [],
   "source": [
    "# initialize\n",
    "t=0.\n",
    "dt1=0.2\n",
    "viewer.ylim(-1.1,1.1)\n",
    "\n",
    "# loop over timesteps\n",
    "while t<2.:\n",
    "    viewer.wavefunction=cos(xgrid+t)+1j*sin(xgrid+t)\n",
    "    viewer.updatelines()\n",
    "    viewer.set_title(t)\n",
    "    t=t+dt1"
   ]
  },
  {
   "cell_type": "markdown",
   "metadata": {},
   "source": [
    "<font color=red>Copy the code from the previous line, and modify it so that the running waves move in the other direction.</font>"
   ]
  },
  {
   "cell_type": "code",
   "execution_count": null,
   "metadata": {},
   "outputs": [],
   "source": []
  },
  {
   "cell_type": "markdown",
   "metadata": {},
   "source": [
    "We then close the window"
   ]
  },
  {
   "cell_type": "code",
   "execution_count": null,
   "metadata": {},
   "outputs": [],
   "source": [
    "viewer.close()"
   ]
  },
  {
   "cell_type": "markdown",
   "metadata": {},
   "source": [
    "Our next step is to animate evolution coming from "
   ]
  },
  {
   "cell_type": "markdown",
   "metadata": {},
   "source": [
    "$$\\left(1+iH \\delta t/2\\right) \\psi(t+\\delta t)=\\left(1-iH\\delta t/2\\right)\\psi(t)$$"
   ]
  },
  {
   "cell_type": "code",
   "execution_count": null,
   "metadata": {},
   "outputs": [],
   "source": [
    "import scipy.sparse.linalg as linalg\n",
    "import scipy.sparse as sparse"
   ]
  },
  {
   "cell_type": "code",
   "execution_count": null,
   "metadata": {},
   "outputs": [],
   "source": [
    "# Hit shift-enter to generate the functions needed to evolve the wavefunction\n",
    "# This uses a very efficient linear-algebra algorithm known as LU decomposition\n",
    "\n",
    "dt=0.001  # set time step\n",
    "\n",
    "dx=0.01*pi  # set x step\n",
    "xgrid=arange(0,pi,dx)  # generate grid\n",
    "pot=zeros(len(xgrid))  # generate potential\n",
    "hardwallham=HamiltonianMatrix(potential=pot,dx=dx,periodic=False) #make Hamiltonian\n",
    "\n",
    "csrham=csc_matrix(hardwallham)                              # convert to more efficient format\n",
    "hamsize=hardwallham.shape[0]                                # figure out how big the matrix is\n",
    "LHSOperator=sparse.identity(hamsize,dtype=complex,format=\"csc\")+0.5j*dt*csrham # Operator on Left\n",
    "inverseLHS=linalg.factorized(LHSOperator) # A function which essentially acts like the inverse matrix\n",
    "RHSOperator=sparse.identity(hamsize,dtype=complex,format=\"csc\")-0.5j*dt*csrham # Operator on right"
   ]
  },
  {
   "cell_type": "markdown",
   "metadata": {},
   "source": [
    "With these operators we can do time evolution as follows:"
   ]
  },
  {
   "cell_type": "code",
   "execution_count": null,
   "metadata": {},
   "outputs": [],
   "source": [
    "viewer=TDSEviewer(wavefunction=wavefunction,grid=xgrid)  # open up a viewer window\n",
    "viewer.reset()"
   ]
  },
  {
   "cell_type": "markdown",
   "metadata": {},
   "source": [
    "Make window bigger (you can also do this by dragging)"
   ]
  },
  {
   "cell_type": "code",
   "execution_count": null,
   "metadata": {},
   "outputs": [],
   "source": [
    "viewer.set_geometry(1000,500)"
   ]
  },
  {
   "cell_type": "markdown",
   "metadata": {},
   "source": [
    "The slowest part of the algorithm is actually plotting the curve, so here is a trick which plots only every 10th interation "
   ]
  },
  {
   "cell_type": "code",
   "execution_count": null,
   "metadata": {},
   "outputs": [],
   "source": [
    "# initialize\n",
    "t=0.\n",
    "viewer.ylim(-1,1)\n",
    "viewer.wavefunction=wavefunction\n",
    "viewer.xlim(0,pi)\n",
    "\n",
    "counter=0\n",
    "# loop over timesteps\n",
    "while t<1.:\n",
    "    viewer.wavefunction=inverseLHS(RHSOperator.dot(viewer.wavefunction))\n",
    "    if counter%10==0:\n",
    "        viewer.updatelines()\n",
    "        viewer.set_title(t)\n",
    "    t=t+dt\n",
    "    counter=counter+1"
   ]
  },
  {
   "cell_type": "markdown",
   "metadata": {},
   "source": [
    "You can access the data directly, as shown by the following cell.  "
   ]
  },
  {
   "cell_type": "code",
   "execution_count": null,
   "metadata": {},
   "outputs": [],
   "source": [
    "plot(abs(viewer.wavefunction)**2)"
   ]
  },
  {
   "cell_type": "markdown",
   "metadata": {},
   "source": [
    "Close the viewer"
   ]
  },
  {
   "cell_type": "code",
   "execution_count": null,
   "metadata": {},
   "outputs": [],
   "source": [
    "viewer.close()"
   ]
  },
  {
   "cell_type": "markdown",
   "metadata": {},
   "source": [
    "<h2> Some Tricks </h2>"
   ]
  },
  {
   "cell_type": "markdown",
   "metadata": {},
   "source": [
    "Suppose you wanted to store every wavefunction as it is generated, you might do something like"
   ]
  },
  {
   "cell_type": "code",
   "execution_count": null,
   "metadata": {},
   "outputs": [],
   "source": [
    "viewer=TDSEviewer()"
   ]
  },
  {
   "cell_type": "code",
   "execution_count": null,
   "metadata": {},
   "outputs": [],
   "source": [
    "# initialize\n",
    "t=0.\n",
    "\n",
    "dt=0.001 # set time step\n",
    "\n",
    "dx=0.01*pi\n",
    "xgrid=arange(0,pi,dx)\n",
    "pot=zeros(len(xgrid))\n",
    "hardwallham=HamiltonianMatrix(potential=pot,dx=dx,periodic=False) #make Hamiltonian\n",
    "\n",
    "csrham=csc_matrix(hardwallham)                              # convert to more efficient format\n",
    "hamsize=hardwallham.shape[0]\n",
    "LHSOperator=sparse.identity(hamsize,dtype=complex,format=\"csc\")+0.5j*dt*csrham # Operator on Left\n",
    "inverseLHS=linalg.factorized(LHSOperator) # A function which essentially acts like the inverse matrix\n",
    "RHSOperator=sparse.identity(hamsize,dtype=complex,format=\"csc\")-0.5j*dt*csrham # Operator on right\n",
    "\n",
    "\n",
    "viewer.wavefunction=wavepacket(xgrid,x=pi/2,k=30,width=pi/8)\n",
    "viewer.grid=xgrid\n",
    "viewer.xlim(0,pi)\n",
    "viewer.ylim(-2,2)\n",
    "viewer.dx=dx\n",
    "viewer.force_redraw()\n",
    "\n",
    "\n",
    "timeseries=[] # list which will contain the wavefunctions\n",
    "\n",
    "counter=0\n",
    "# loop over timesteps\n",
    "while t<1.5:\n",
    "    viewer.wavefunction=inverseLHS(RHSOperator.dot(viewer.wavefunction))\n",
    "    #viewer.rescale()\n",
    "    timeseries.append([t,viewer.wavefunction])\n",
    "    if counter%20==0:\n",
    "        viewer.set_title(t)\n",
    "        viewer.updatelines()\n",
    "    t=t+dt\n",
    "    counter=counter+1\n",
    "    "
   ]
  },
  {
   "cell_type": "code",
   "execution_count": null,
   "metadata": {},
   "outputs": [],
   "source": [
    "viewer.close()"
   ]
  },
  {
   "cell_type": "markdown",
   "metadata": {},
   "source": [
    "If we just want the wavefunctions (and not the times) we can unpack the data using a \"list comprehension\""
   ]
  },
  {
   "cell_type": "code",
   "execution_count": null,
   "metadata": {},
   "outputs": [],
   "source": [
    "wfseries=array([wf for time,wf in timeseries])"
   ]
  },
  {
   "cell_type": "markdown",
   "metadata": {},
   "source": [
    "This can then be shown in a density plot"
   ]
  },
  {
   "cell_type": "code",
   "execution_count": null,
   "metadata": {},
   "outputs": [],
   "source": [
    "imshow(abs(wfseries),aspect=2,origin=\"lower\",extent=(0,pi,0,t))\n",
    "xlabel(\"x\")\n",
    "ylabel(\"t\")"
   ]
  },
  {
   "cell_type": "markdown",
   "metadata": {},
   "source": [
    "<font color=red><b> Problem:</b> Give a qualitative description of this behavior, and explain the main features.</font>"
   ]
  },
  {
   "cell_type": "markdown",
   "metadata": {},
   "source": [
    "<em> Write solution here </em>"
   ]
  },
  {
   "cell_type": "markdown",
   "metadata": {},
   "source": [
    "<font color=red><b> Problem:</b> Make a plot like this with periodic boundary conditions instead of hard wall.</font>"
   ]
  },
  {
   "cell_type": "code",
   "execution_count": null,
   "metadata": {},
   "outputs": [],
   "source": []
  },
  {
   "cell_type": "code",
   "execution_count": null,
   "metadata": {},
   "outputs": [],
   "source": []
  },
  {
   "cell_type": "code",
   "execution_count": null,
   "metadata": {},
   "outputs": [],
   "source": []
  },
  {
   "cell_type": "markdown",
   "metadata": {},
   "source": [
    "<h2> Encapsulation </h2>"
   ]
  },
  {
   "cell_type": "markdown",
   "metadata": {},
   "source": [
    "One way to work with a notebook is to simply copy and paste a cell which is your \"program\" -- making changes as necessary (for example, changing the potential).  Another strategy is to encapsulate the simulation in either a function, or a more sophisticated object.  Once you have figured out what you want to calculate, you will find encapsulation is more efficient.  During the exploration phase, you may find the copying and pasting to be more efficient.  Here is one encapsulation strategy for the part of our program which generates the evolution matrices.  Typically we would also encapsulate the loop that does time evolution, but this is profound enough that one example is probably enough for now.  Fill in the missing code."
   ]
  },
  {
   "cell_type": "code",
   "execution_count": null,
   "metadata": {},
   "outputs": [],
   "source": [
    "# Fill in the missing code\n",
    "\n",
    "class tdse:\n",
    "    \"\"\" tdse generates the machinery for evolving a wavefunction.  Call it with\n",
    "    tdse(dt,dx,pot,periodic): dt is the timestep, dx is the spatial discretization,\n",
    "    pot is a list of values of the potential on the grid.  periodic is True or False,\n",
    "    depending on if you want periodic boundary conditions\"\"\"\n",
    "    \n",
    "    def __init__(self,dt,dx,pot,periodic=False):\n",
    "        self.dt=dt\n",
    "        self.dx=dx\n",
    "        self.pot=pot\n",
    "        self.periodic=periodic\n",
    "        self.ham=HamiltonianMatrix(potential=pot,dx=dx,periodic=periodic)\n",
    "        self.csrham=  # insert code to convert matrix\n",
    "        self.hamsize= #insert code to calculate size of matrix\n",
    "        self.LHSOperator = #insert code to calculate operator on LHS of Schrodinger equation\n",
    "        self.inverseLHS= #insert code to generate LU factorized operator for inverting matrix\n",
    "        self.RHSOperator = #insert code to form operator on right\n",
    "        \n",
    "    def evolve(self,wavefunction):\n",
    "        return self.inverseLHS(self.RHSOperator.dot(wavefunction))"
   ]
  },
  {
   "cell_type": "markdown",
   "metadata": {},
   "source": [
    "<h2> Application1 -- the harmonic oscillator </h2>"
   ]
  },
  {
   "cell_type": "markdown",
   "metadata": {},
   "source": [
    "In this section we study the evolution of a wavepacket for a harmonic oscillator "
   ]
  },
  {
   "cell_type": "code",
   "execution_count": null,
   "metadata": {},
   "outputs": [],
   "source": [
    "dx=0.01\n",
    "xgrid=arange(-10,10,dx)\n",
    "omega=2.*pi\n",
    "def harmpot(x):\n",
    "    return 0.5*omega**2*x**2\n",
    "\n",
    "harmdat=harmpot(xgrid)  # calculate the potential\n",
    "\n",
    "viewer=TDSEviewer(wavefunction=wavepacket(xgrid,x=-2,k=0.,width=0.5),grid=xgrid,potential=harmdat)"
   ]
  },
  {
   "cell_type": "markdown",
   "metadata": {},
   "source": [
    "Now lets generate the functions you need for time evolution"
   ]
  },
  {
   "cell_type": "code",
   "execution_count": null,
   "metadata": {},
   "outputs": [],
   "source": [
    "ho=tdse(dt=0.001,dx=dx,pot=harmdat)\n",
    "\n",
    "\n",
    "# That one line replaces all of this:\n",
    "#  dt=0.001\n",
    "#  harmham=HamiltonianMatrix(potential=harmdat,dx=dx,periodic=False) # make Hamiltonian\n",
    "#  csrham=csc_matrix(harmham)                              # convert to more efficient format\n",
    "#  hamsize=harmham.shape[0]\n",
    "#  LHSOperator=sparse.identity(hamsize,dtype=complex,format=\"csc\")+0.5j*dt*csrham # Operator on Left\n",
    "#  inverseLHS=linalg.factorized(LHSOperator) # A function which essentially acts like the inverse matrix\n",
    "#  RHSOperator=sparse.identity(hamsize,dtype=complex,format=\"csc\")-0.5j*dt*csrham # Operator on right\n"
   ]
  },
  {
   "cell_type": "markdown",
   "metadata": {},
   "source": [
    "Animate the evolution"
   ]
  },
  {
   "cell_type": "code",
   "execution_count": null,
   "metadata": {},
   "outputs": [],
   "source": [
    "\n",
    "timeseries=[] # list which will contain the wavefunctions\n",
    "\n",
    "counter=0\n",
    "t=0.\n",
    "\n",
    "# loop over timesteps\n",
    "while t<4:\n",
    "    if counter%20==0:\n",
    "        viewer.updatelines()\n",
    "        viewer.set_title(t)\n",
    "    timeseries.append([t,viewer.wavefunction])\n",
    "    viewer.wavefunction=ho.evolve(viewer.wavefunction)\n",
    "    t=t+dt\n",
    "    counter=counter+1"
   ]
  },
  {
   "cell_type": "markdown",
   "metadata": {},
   "source": [
    "You should have seen a wavepacket bouncing back and forth in the harmonic potential.  "
   ]
  },
  {
   "cell_type": "markdown",
   "metadata": {},
   "source": [
    "<h3> Studying the data </h3>"
   ]
  },
  {
   "cell_type": "markdown",
   "metadata": {},
   "source": [
    "The first thing we now want to do is take a look at a plot of the probability density as a function of position and time"
   ]
  },
  {
   "cell_type": "code",
   "execution_count": null,
   "metadata": {},
   "outputs": [],
   "source": [
    "wfseries=array([wf for time,wf in timeseries])\n",
    "xlim([xgrid[0],xgrid[-1]])\n",
    "ylim([0,t])\n",
    "imshow(abs(wfseries),aspect=4,origin=\"lower\",cmap=gray(),extent=[xgrid[0],xgrid[-1],0,t])\n",
    "title(\"probability density: harmonic oscillator\")\n",
    "ylabel(\"t\")\n",
    "xlabel(\"x\")\n",
    "colorbar()\n",
    "#uncomment the next line to save the figure\n",
    "# savefig(\"pdens.png\")"
   ]
  },
  {
   "cell_type": "markdown",
   "metadata": {},
   "source": [
    "The array wfseries is a sequence of 4001 wavefunctions at sequential timesteps.  Each wavefunction is a vector of 2000 complex numbers"
   ]
  },
  {
   "cell_type": "code",
   "execution_count": null,
   "metadata": {},
   "outputs": [],
   "source": [
    "wfseries.shape"
   ]
  },
  {
   "cell_type": "markdown",
   "metadata": {},
   "source": [
    "We can readily verify that the probability density is conserved"
   ]
  },
  {
   "cell_type": "code",
   "execution_count": null,
   "metadata": {},
   "outputs": [],
   "source": [
    "norms=(abs(wfseries)**2).sum(1)\n",
    "plot(norms)\n",
    "xlabel(\"time slice\")\n",
    "ylabel(\"sum of squares of elements\")"
   ]
  },
  {
   "cell_type": "markdown",
   "metadata": {},
   "source": [
    "Next lets make a plot of $\\langle x\\rangle$ as a function of time.  We will call this time series \"posseries\""
   ]
  },
  {
   "cell_type": "code",
   "execution_count": null,
   "metadata": {},
   "outputs": [],
   "source": [
    "posseries= dot(abs(wfseries)**2,xgrid)/norms"
   ]
  },
  {
   "cell_type": "code",
   "execution_count": null,
   "metadata": {},
   "outputs": [],
   "source": [
    "times=array([time for time,wf in timeseries])"
   ]
  },
  {
   "cell_type": "code",
   "execution_count": null,
   "metadata": {},
   "outputs": [],
   "source": [
    "plot(times,posseries)\n",
    "xlabel(\"time\")\n",
    "ylabel(\"position\")\n",
    "title(\"harmonic oscillator with Period 1\")"
   ]
  },
  {
   "cell_type": "markdown",
   "metadata": {},
   "source": [
    "<strong> Exercise:</strong>  Repeat this numerical experiment, but this time start with a wave-function which is a superposition of two (initially stationary) wave-packets, one at x=-2 and one at x=2.  Make a plot of the probability density as a function of space and time.  Properly label the axes.  "
   ]
  },
  {
   "cell_type": "code",
   "execution_count": null,
   "metadata": {},
   "outputs": [],
   "source": [
    "# Write solution here"
   ]
  },
  {
   "cell_type": "code",
   "execution_count": null,
   "metadata": {},
   "outputs": [],
   "source": []
  },
  {
   "cell_type": "code",
   "execution_count": null,
   "metadata": {},
   "outputs": [],
   "source": []
  },
  {
   "cell_type": "markdown",
   "metadata": {},
   "source": [
    "<strong> Exercise:</strong>  Repeat for a packet which starts off stationary at x=0.  Make a plot of the probability density as a function of space and time.  Properly label the axes.  "
   ]
  },
  {
   "cell_type": "code",
   "execution_count": null,
   "metadata": {},
   "outputs": [],
   "source": []
  },
  {
   "cell_type": "code",
   "execution_count": null,
   "metadata": {},
   "outputs": [],
   "source": []
  },
  {
   "cell_type": "code",
   "execution_count": null,
   "metadata": {},
   "outputs": [],
   "source": []
  },
  {
   "cell_type": "markdown",
   "metadata": {},
   "source": [
    "<strong> Exercise:</strong>  Repeat for a packet which starts off stationary at x=0, and has width of width=1 instead of width=1/2.  Make a plot of $\\langle x^2 \\rangle$ vs time.  Properly label the axes.  "
   ]
  },
  {
   "cell_type": "code",
   "execution_count": null,
   "metadata": {},
   "outputs": [],
   "source": []
  },
  {
   "cell_type": "code",
   "execution_count": null,
   "metadata": {},
   "outputs": [],
   "source": []
  },
  {
   "cell_type": "code",
   "execution_count": null,
   "metadata": {},
   "outputs": [],
   "source": []
  },
  {
   "cell_type": "markdown",
   "metadata": {},
   "source": [
    "<strong> Exercise:</strong>  How does the period of oscillation of $\\langle x^2\\rangle$ in the last problem compare to the oscillation  period of $\\langle x\\rangle$ in the original simulation."
   ]
  },
  {
   "cell_type": "markdown",
   "metadata": {},
   "source": [
    "Give solution here"
   ]
  },
  {
   "cell_type": "code",
   "execution_count": null,
   "metadata": {},
   "outputs": [],
   "source": []
  }
 ],
 "metadata": {
  "kernelspec": {
   "display_name": "Python 3",
   "language": "python",
   "name": "python3"
  },
  "language_info": {
   "codemirror_mode": {
    "name": "ipython",
    "version": 3
   },
   "file_extension": ".py",
   "mimetype": "text/x-python",
   "name": "python",
   "nbconvert_exporter": "python",
   "pygments_lexer": "ipython3",
   "version": "3.5.1"
  }
 },
 "nbformat": 4,
 "nbformat_minor": 1
}
