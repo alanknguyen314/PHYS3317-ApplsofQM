{
 "cells": [
  {
   "cell_type": "markdown",
   "metadata": {},
   "source": [
    "# PHYS 3317 -- Using Finite Differences to find Eigenstates of 1D single particle Hamiltonians"
   ]
  },
  {
   "cell_type": "markdown",
   "metadata": {},
   "source": [
    "Please hand in this completed notebook before next Friday."
   ]
  },
  {
   "cell_type": "markdown",
   "metadata": {},
   "source": [
    "<font color=\"red\"><em> Please double click on this cell, and replace its contents with your name </em></font>"
   ]
  },
  {
   "cell_type": "markdown",
   "metadata": {},
   "source": [
    "Here we will use computational Linear Algebra to solve the time independent Schrodinger Equation"
   ]
  },
  {
   "cell_type": "markdown",
   "metadata": {},
   "source": [
    "## Constructing the Hamiltonian"
   ]
  },
  {
   "cell_type": "markdown",
   "metadata": {},
   "source": [
    "This section constructs the Hamiltonian as a matrix.  You have seen this before."
   ]
  },
  {
   "cell_type": "code",
   "execution_count": null,
   "metadata": {},
   "outputs": [],
   "source": [
    "# Hit shift-enter \n",
    "%pylab inline\n",
    "\n",
    "from scipy.sparse import *  # loads the functions to deal with sparse matrices\n",
    "from showmat import showmat # loads display functions \n",
    "# if you get an error message, download showmat.py and put in directory with notebooks"
   ]
  },
  {
   "cell_type": "markdown",
   "metadata": {},
   "source": [
    "First we make a function which generates the finite difference approximation to the second derivative.  "
   ]
  },
  {
   "cell_type": "code",
   "execution_count": null,
   "metadata": {},
   "outputs": [],
   "source": [
    "# you don't need to do anything here -- just hit shift-enter\n",
    "def SecondDerivMatrix(numpoints,dx,periodic) : \n",
    "    \"\"\"SecondDerivMatrix(numpoints,dx,periodic) returns a sparse matrix\n",
    "    which represents the second derivative -- using a 3-point derivative.  \n",
    "\n",
    "    It takes periodic needed arguments:\n",
    "    numpoints -- an integer which is how many points are in the grid\n",
    "    dx -- the real space lattice spacing\n",
    "    periodic -- do we use periodic boundary conditions?\n",
    "\n",
    "    Setting periodic to \"False\" will give \"hard wall boundaries\"\n",
    "    \"\"\"\n",
    "    unitlist=ones(numpoints)  # just a list of 1's whose length is equal to the length of the grid\n",
    "    if periodic :\n",
    "        return dia_matrix(       # we are generating a sparse matrix by specifying the diagonals\n",
    "            ((unitlist/(dx**2),unitlist/(dx**2),-2*unitlist/(dx**2),unitlist/(dx**2),unitlist/(dx**2)),\n",
    "            (1,-1,0,numpoints-1,1-numpoints)),  # this line specifies which the diagonals\n",
    "            shape=(numpoints,numpoints))\n",
    "    else :\n",
    "        return dia_matrix(       # we are generating a sparse matrix by specifying the diagonals\n",
    "            ((unitlist/(dx**2),unitlist/(dx**2),-2*unitlist/(dx**2)),\n",
    "            (1,-1,0)),  # this line specifies which the diagonals\n",
    "            shape=(numpoints,numpoints))"
   ]
  },
  {
   "cell_type": "markdown",
   "metadata": {},
   "source": [
    "To make this concrete lets generate examples"
   ]
  },
  {
   "cell_type": "code",
   "execution_count": null,
   "metadata": {},
   "outputs": [],
   "source": [
    "sm=SecondDerivMatrix(numpoints=9,dx=0.5,periodic=False) #make an example"
   ]
  },
  {
   "cell_type": "code",
   "execution_count": null,
   "metadata": {},
   "outputs": [],
   "source": [
    "showmat(sm.todense()) # look at it"
   ]
  },
  {
   "cell_type": "markdown",
   "metadata": {},
   "source": [
    "Here is the same thing, but with periodic boundary conditions"
   ]
  },
  {
   "cell_type": "code",
   "execution_count": null,
   "metadata": {},
   "outputs": [],
   "source": [
    "sm2=SecondDerivMatrix(numpoints=9,dx=0.5,periodic=True) #make an example"
   ]
  },
  {
   "cell_type": "code",
   "execution_count": null,
   "metadata": {},
   "outputs": [],
   "source": [
    "showmat(sm2.todense()) # look at it"
   ]
  },
  {
   "cell_type": "markdown",
   "metadata": {},
   "source": [
    "Next we make a function which generates the finite difference approximation to the operator V(x).  This is a diagonal matrix:"
   ]
  },
  {
   "cell_type": "markdown",
   "metadata": {},
   "source": [
    "$$\n",
    "\\left(\n",
    "\\begin{array}{ccccc}\n",
    "V(x_1)&0&\\cdots&&\\cr\n",
    "0&V(x_2)&0&0&\\cdots\\cr\n",
    "0&0&V(x_3)&0&\\cdots\\cr\n",
    "\\vdots\\cr\n",
    "\\vdots&&&&V(x_n)\n",
    "\\end{array}\n",
    "\\right)\n",
    "\\left(\n",
    "\\begin{array}{c}\n",
    "\\psi(x_1)\\cr\n",
    "\\psi(x_2)\\cr\n",
    "\\psi(x_3)\\cr\n",
    "\\vdots\\cr\n",
    "\\psi(x_n)\n",
    "\\end{array}\n",
    "\\right)=\n",
    "\\left(\n",
    "\\begin{array}{c}\n",
    "V(x_1)\\psi(x_1)\\cr\n",
    "V(x_2)\\psi(x_2)\\cr\n",
    "V(x_3)\\psi(x_3)\\cr\n",
    "\\vdots\\cr\n",
    "V(x_n)\\psi(x_n)\n",
    "\\end{array}\\right)\n",
    "$$\n"
   ]
  },
  {
   "cell_type": "markdown",
   "metadata": {},
   "source": [
    "For variety, this time instead of taking a list of V's as its argument, I will make it so it takes the function $V(x)$ as its argument"
   ]
  },
  {
   "cell_type": "code",
   "execution_count": null,
   "metadata": {},
   "outputs": [],
   "source": [
    "# Hit shift-enter\n",
    "\n",
    "def PotentialMatrix(potentialfunction,minx,maxx,numpoints=None,dx=None):\n",
    "    \"\"\"PotentialMatrix(potentialfunction,minx,maxx,periodic,numpoints,dx)\n",
    "    generates a finite difference approximation to the operator V(x).\n",
    "    It is called by the following arguments:\n",
    "    potentialfunction -- a function which when called with x returns V(x)\n",
    "    minx -- smallest x in grid\n",
    "    maxx -- largest x in grid\n",
    "    numpoints -- number of points in grid\n",
    "    dx -- grid spacing\n",
    "\n",
    "    Either specify numpoints or dx -- but not both\"\"\"\n",
    "    \n",
    "    # First we check to see if numpoints and/or dx are specified\n",
    "    #\n",
    "    # #If you are new to programming, don't worry too much about\n",
    "    # #this section -- it is just here to give us the flexibility\n",
    "    # #to specify the grid either by the number of points or\n",
    "    # #the spacing.  \n",
    "    #\n",
    "    # in the former case we would use linspace(xmin,xmax,numpoints)\n",
    "    # in the latter case we would use arange(xmin,xmax,dx)\n",
    "    #\n",
    "    # It is useful to see this sort of construction, as undoubtedly\n",
    "    # you will want to throw error messages some time in the future.\n",
    "    #\n",
    "    if numpoints==None: #was numpoints specified\n",
    "        if dx==None: #was dx specified\n",
    "            # oops -- neither are specified, give error message\n",
    "            raise Exception(\"Error: you must specify either numpoints or dx\")\n",
    "        else: # great -- dx is specified, but numpoints is not\n",
    "            grid = arange(minx,maxx+dx,dx)\n",
    "    else : # numpoints is specified\n",
    "        if dx==None: # check to make sure dx is not specified\n",
    "            grid=linspace(minx,maxx,numpoints)\n",
    "        else : # both are specified\n",
    "            if dx*(numpoints-1)==(maxx-minx): # are they consistent?\n",
    "                grid=linspace(minx,maxx,numpoints) \n",
    "            else:\n",
    "                raise Exception(\"error: dx and numpoints are not consistent -- please just specify one of them\")\n",
    "    \n",
    "    # now generate the values of the potential on the grid\n",
    "    potvals=array([potentialfunction(x) for x in grid])\n",
    "    \n",
    "    #now generate matrix\n",
    "    ln=len(grid)\n",
    "    return dia_matrix((potvals,0),shape=(ln,ln))\n",
    "    "
   ]
  },
  {
   "cell_type": "markdown",
   "metadata": {},
   "source": [
    "Next, we want an example potential matrix -- lets use a harmonic oscillator"
   ]
  },
  {
   "cell_type": "code",
   "execution_count": null,
   "metadata": {},
   "outputs": [],
   "source": [
    "def hopot(x):  # this is the V(x) for a harmonic oscillator with omega=1,and m=1\n",
    "    return (x**2)/2."
   ]
  },
  {
   "cell_type": "code",
   "execution_count": null,
   "metadata": {},
   "outputs": [],
   "source": [
    "pm=PotentialMatrix(potentialfunction=hopot,minx=-2,maxx=2,dx=0.5) #make an example"
   ]
  },
  {
   "cell_type": "code",
   "execution_count": null,
   "metadata": {},
   "outputs": [],
   "source": [
    "showmat(pm.todense()) #look at it"
   ]
  },
  {
   "cell_type": "code",
   "execution_count": null,
   "metadata": {},
   "outputs": [],
   "source": [
    "plot(pm.diagonal()) # plot the diagonal"
   ]
  },
  {
   "cell_type": "markdown",
   "metadata": {},
   "source": [
    "Now lets make a function which generates the Hamiltonian as a matrix"
   ]
  },
  {
   "cell_type": "code",
   "execution_count": null,
   "metadata": {},
   "outputs": [],
   "source": [
    "def HamiltonianMatrix(potentialfunction,minx,maxx,numpoints,periodic,hbar=1,mass=1):\n",
    "    \"\"\"HamiltonianMatrix(potentialfunction,minx,maxx,numpoints,hbar=1,mass=1)\n",
    "    generates a finite difference approximation to the hamiltonian operator H\n",
    "    for the case of a single particle in a potential V(x)\n",
    "\n",
    "    It is called by the following required arguments:\n",
    "    potentialfunction -- a function which when called with x returns V(x)\n",
    "    minx -- smallest x in grid\n",
    "    maxx -- largest x in grid\n",
    "    numpoints -- number of points in grid\n",
    "    \n",
    "    It also has two optional arguments, which are assumed to be equal to unity if they\n",
    "    are not specified\n",
    "    hbar -- Planck's constant divided by 2 pi\n",
    "    mass -- the particle mass\n",
    "    \"\"\"\n",
    "    dx=1.*(maxx-minx)/(numpoints-1) # calculate grid spacing\n",
    "    kin=-(0.5*hbar**2/mass)*SecondDerivMatrix(numpoints=numpoints,dx=dx,periodic=periodic) # calculate kinetic energy operator\n",
    "    pot=PotentialMatrix(potentialfunction=potentialfunction,minx=minx,maxx=maxx,numpoints=numpoints) #calculate potential energy operator\n",
    "    return kin+pot"
   ]
  },
  {
   "cell_type": "markdown",
   "metadata": {},
   "source": [
    "Continuing with the harmonic oscilator example"
   ]
  },
  {
   "cell_type": "code",
   "execution_count": null,
   "metadata": {},
   "outputs": [],
   "source": [
    "ham1=HamiltonianMatrix(potentialfunction=hopot,minx=-10,maxx=10,numpoints=1000,periodic=True)"
   ]
  },
  {
   "cell_type": "code",
   "execution_count": null,
   "metadata": {},
   "outputs": [],
   "source": [
    "ham1.shape # how big is the matrix?"
   ]
  },
  {
   "cell_type": "markdown",
   "metadata": {},
   "source": [
    "Lets look at the first few entries"
   ]
  },
  {
   "cell_type": "code",
   "execution_count": null,
   "metadata": {},
   "outputs": [],
   "source": [
    "showmat(ham1[:10,:10].todense())"
   ]
  },
  {
   "cell_type": "markdown",
   "metadata": {},
   "source": [
    "Lets look at the last few entries of the first line"
   ]
  },
  {
   "cell_type": "code",
   "execution_count": null,
   "metadata": {},
   "outputs": [],
   "source": [
    "showmat(ham1[:10,-10:].todense())"
   ]
  },
  {
   "cell_type": "code",
   "execution_count": null,
   "metadata": {},
   "outputs": [],
   "source": [
    "imshow(ham1.todense()) # interpret the entries in the hamiltonian as pixels in an image"
   ]
  },
  {
   "cell_type": "code",
   "execution_count": null,
   "metadata": {},
   "outputs": [],
   "source": [
    "plot(ham1.diagonal()) #plot the diagonal"
   ]
  },
  {
   "cell_type": "code",
   "execution_count": null,
   "metadata": {},
   "outputs": [],
   "source": [
    "ham1[0,1] # look at the second element on the first line"
   ]
  },
  {
   "cell_type": "markdown",
   "metadata": {},
   "source": [
    "## Numerically finding the eigenvalues and eigenvectors"
   ]
  },
  {
   "cell_type": "code",
   "execution_count": null,
   "metadata": {},
   "outputs": [],
   "source": [
    "from scipy.sparse.linalg import eigsh  # load the function which calculates eigenvectors of hermitian matrices"
   ]
  },
  {
   "cell_type": "code",
   "execution_count": null,
   "metadata": {},
   "outputs": [],
   "source": [
    "?eigsh"
   ]
  },
  {
   "cell_type": "markdown",
   "metadata": {},
   "source": [
    "Here is an example of just getting the eigenvalues"
   ]
  },
  {
   "cell_type": "code",
   "execution_count": null,
   "metadata": {},
   "outputs": [],
   "source": [
    "eigsh(ham1, # matrix to diagonalize\n",
    " k=10, # find 10 eigenvalues\n",
    " sigma=0, # find eigenvalues closest to 0\n",
    " return_eigenvectors=False # just give eigenvalues\n",
    " )"
   ]
  },
  {
   "cell_type": "markdown",
   "metadata": {},
   "source": [
    "Take a moment to marvel in this -- you just diagonalized a 1000x1000 matrix."
   ]
  },
  {
   "cell_type": "markdown",
   "metadata": {},
   "source": [
    "Here is how we get both eigenvalues and eigenvectors"
   ]
  },
  {
   "cell_type": "code",
   "execution_count": null,
   "metadata": {},
   "outputs": [],
   "source": [
    "energies,wavefunctions=eigsh(ham1,k=10, sigma=0,  return_eigenvectors=True)"
   ]
  },
  {
   "cell_type": "markdown",
   "metadata": {},
   "source": [
    "Lets now plot the lowest few eigenvectors -- note these wavefunctions are not normalized."
   ]
  },
  {
   "cell_type": "code",
   "execution_count": null,
   "metadata": {},
   "outputs": [],
   "source": [
    "grid=linspace(-10,10,1000)"
   ]
  },
  {
   "cell_type": "code",
   "execution_count": null,
   "metadata": {},
   "outputs": [],
   "source": [
    "plot(grid,-wavefunctions[:,0])\n",
    "title(\"Lowest Harmonic oscillator eigenstate\")\n",
    "xlabel(\"x/d\")\n",
    "ylabel(\"$\\psi$ [Arbitrary Units]\")"
   ]
  },
  {
   "cell_type": "code",
   "execution_count": null,
   "metadata": {},
   "outputs": [],
   "source": [
    "plot(grid,-wavefunctions[:,1])\n",
    "title(\"First excited Harmonic oscillator eigenstate\")\n",
    "xlabel(\"x/d\")\n",
    "ylabel(\"$\\psi$ [Arbitrary Units]\")"
   ]
  },
  {
   "cell_type": "code",
   "execution_count": null,
   "metadata": {},
   "outputs": [],
   "source": [
    "plot(grid,-wavefunctions[:,2])\n",
    "title(\"Second Excited Harmonic oscillator eigenstate\")\n",
    "xlabel(\"x/d\")\n",
    "ylabel(\"$\\psi$ [Arbitrary Units]\")"
   ]
  },
  {
   "cell_type": "markdown",
   "metadata": {},
   "source": [
    "Lets now make a classic picture which you might have seen in a textbook.  We will plot each of the wavefunctions, offsetting them by the energy"
   ]
  },
  {
   "cell_type": "code",
   "execution_count": null,
   "metadata": {},
   "outputs": [],
   "source": [
    "potvalues= 0.5*grid**2"
   ]
  },
  {
   "cell_type": "code",
   "execution_count": null,
   "metadata": {},
   "outputs": [],
   "source": [
    "plot(grid,potvalues,linewidth=4,color=(0,0,0)) #plot the parabola representing the harmonic potential \n",
    "ylim(0,10) # rescale the y-axis\n",
    "xlabel(\"x/d\") # label the x-axis\n",
    "ylabel(\"Energy/$\\hbar\\omega$\") # label the y-axis\n",
    "title(\"Eigenstates of Harmonic Oscillator, shifted by energy\") # set title\n",
    "yticks(arange(0.5,10,1)) # set the ticks on the y-axis to line up with the energies of the states\n",
    "for index,en in enumerate(energies): # loop over the eigen-energies\n",
    "    plot(grid,en-5*wavefunctions[:,index]) # plot each wavefunction, scaling and offsetting"
   ]
  },
  {
   "cell_type": "markdown",
   "metadata": {},
   "source": [
    "### Problems"
   ]
  },
  {
   "cell_type": "markdown",
   "metadata": {},
   "source": [
    "1) Numerically calculate the lowest 5 eigen-energies of an infinite square well of length 1, in units where hbar=m=1.  "
   ]
  },
  {
   "cell_type": "markdown",
   "metadata": {},
   "source": [
    "Note: you don't need to use HamiltonianMatrix -- just use SecondDerivMatrix with hard wall boundaries.  Plot the eigenstates. (The plot doesn't need to be as fancy as the last one we did for the Harmonic Oscillator -- just separate graphs are fine.  Label the axes.  If you want to make the fancy graphs, that is also fine.)"
   ]
  },
  {
   "cell_type": "markdown",
   "metadata": {},
   "source": [
    "<u>Give answer (program) here -- add more cells as neccessary </u>"
   ]
  },
  {
   "cell_type": "markdown",
   "metadata": {},
   "source": [
    "2) Calculate the lowest 10 eigen-energies of a particle in a double-well potential $V(x)=0.5*(x^2-4)^2$.  Use units where $\\hbar=m=1$.  Is there a separation of scales?  Plot the lowest 4 eigenstates."
   ]
  },
  {
   "cell_type": "markdown",
   "metadata": {},
   "source": [
    "<u>Give answer (program) here -- add more cells as necessary</u>"
   ]
  },
  {
   "cell_type": "markdown",
   "metadata": {},
   "source": [
    "3) Repeat with $V(x)=0.1∗(x^2−4)^2$.  "
   ]
  },
  {
   "cell_type": "markdown",
   "metadata": {},
   "source": [
    "Give answer (program) here -- add more cells as necessary"
   ]
  },
  {
   "cell_type": "markdown",
   "metadata": {},
   "source": [
    "3) Numerically calculate the lowest 5 energy eigenvalues of a free particle confined in a box of length 1 with periodic boundary conditions."
   ]
  },
  {
   "cell_type": "markdown",
   "metadata": {},
   "source": [
    "<u>Give answer (program) here -- add more cells as necessary</u>"
   ]
  },
  {
   "cell_type": "markdown",
   "metadata": {},
   "source": [
    "4) In this case of a periodic box, are the eigenstates unique?  Why or why not?  "
   ]
  },
  {
   "cell_type": "markdown",
   "metadata": {},
   "source": [
    "<u>Give answer (sentence or two) here</u>"
   ]
  }
 ],
 "metadata": {
  "kernelspec": {
   "display_name": "Python 3",
   "language": "python",
   "name": "python3"
  },
  "language_info": {
   "codemirror_mode": {
    "name": "ipython",
    "version": 3
   },
   "file_extension": ".py",
   "mimetype": "text/x-python",
   "name": "python",
   "nbconvert_exporter": "python",
   "pygments_lexer": "ipython3",
   "version": "3.5.1"
  }
 },
 "nbformat": 4,
 "nbformat_minor": 1
}
