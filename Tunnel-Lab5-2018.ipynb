{
 "cells": [
  {
   "cell_type": "markdown",
   "metadata": {},
   "source": [
    "# PHYS 3317 -- Tunneling"
   ]
  },
  {
   "cell_type": "markdown",
   "metadata": {},
   "source": [
    "Upload completed notebook to Blackboard at end of recitation section (or before next recitation if you do not complete it during the recitation period)"
   ]
  },
  {
   "cell_type": "markdown",
   "metadata": {},
   "source": [
    "<font color=\"red\"><em> Please double click on this cell, and replace its contents with your name </em></font>"
   ]
  },
  {
   "cell_type": "markdown",
   "metadata": {},
   "source": [
    "This is a less-structured notebook.  Use the skills you have picked up last week to study the behavior of a wave-packet incident on a barrier. I highly recommend working together."
   ]
  },
  {
   "cell_type": "markdown",
   "metadata": {},
   "source": [
    "Work in units where $\\hbar=m=1$ consider a box of length $L=40$, with hard wall boundary conditions.  Use a grid spacing $dx=0.02$.  \n",
    "<ul>\n",
    "<li> Create a potential which is zero, except for between $x=20$ to $x=20.2$, where the potential has height $V_0=800$. </li>\n",
    "<li>Plot the potential. </li>\n",
    "<li>Create a Gaussian wavepacket centered at $x=4$ with wave-vector $k=12\\pi$ and width $\\delta x=1$</li>\n",
    "<li>Plot this wavepacket</li>\n",
    "<li>Use the <em>tdseviewer</em> package to animate the time evolution of this wavepacket.  Use a timestep dt=0.0001, and integrate from time t=0 to time t=1.  Plot only one frame out of 100.  Store the time-series of the wavefunction.</li>\n",
    "<li>You should find that the wave-packet splits into two, with one part passing through the barrier, and the other reflecting.</li>\n",
    "<li>Analyze your stored time-series to calculate the probability that the wavepacket passes through the barrier.</li>\n",
    "<li>Repeat for barriers with thicknesses 0.4 and 0.8.</li>\n",
    "<li>Make a plot of the logarithm of the barrier penetration probability versus barrier thickness.</li>\n",
    "</ul>"
   ]
  }
 ],
 "metadata": {
  "kernelspec": {
   "display_name": "Python [default]",
   "language": "python",
   "name": "python2"
  },
  "language_info": {
   "codemirror_mode": {
    "name": "ipython",
    "version": 2
   },
   "file_extension": ".py",
   "mimetype": "text/x-python",
   "name": "python",
   "nbconvert_exporter": "python",
   "pygments_lexer": "ipython2",
   "version": "2.7.15"
  }
 },
 "nbformat": 4,
 "nbformat_minor": 1
}
