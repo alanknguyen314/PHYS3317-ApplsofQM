{
 "cells": [
  {
   "cell_type": "markdown",
   "metadata": {},
   "source": [
    "# PHYS 3317 -- Hartree"
   ]
  },
  {
   "cell_type": "markdown",
   "metadata": {},
   "source": [
    "Upload completed notebook to Blackboard at end of recitation section (or before next recitation if you do not complete it during the recitation period)"
   ]
  },
  {
   "cell_type": "markdown",
   "metadata": {},
   "source": [
    "<font color=\"red\"><em> Please double click on this cell, and replace its contents with your name </em></font>"
   ]
  },
  {
   "cell_type": "markdown",
   "metadata": {},
   "source": [
    "In class we have been modelling multi-electron atoms using the Hartree approximation.  This is a some-what intuitive model, where one accounts for electron-electron interactions via a self-consistent potential.  That is to model the ground state of an $N$-electron system, one fills the lowest $N$ eigenstates of the following Schrodinger equation"
   ]
  },
  {
   "cell_type": "markdown",
   "metadata": {},
   "source": [
    "<script type=\"text/x-mathjax-config\">\n",
    "MathJax.Hub.Config({\n",
    "  TeX: { equationNumbers: { autoNumber: \"AMS\" } }\n",
    "});\n",
    "</script>"
   ]
  },
  {
   "cell_type": "markdown",
   "metadata": {},
   "source": [
    "\\begin{equation}\n",
    "\\left[-\\frac{\\nabla^2}{2m} + V_{\\rm eff}(r)\\right] \\phi_n(r)=\\epsilon_n \\phi_n(r)\n",
    "\\end{equation}"
   ]
  },
  {
   "cell_type": "markdown",
   "metadata": {},
   "source": [
    "The effective potential should be chosen so that"
   ]
  },
  {
   "cell_type": "markdown",
   "metadata": {},
   "source": [
    "$$\n",
    "V_{\\rm eff}(r) = V_{\\rm ext}(r) + \\int dr^\\prime\\, V_{ee}(r-r^\\prime) \\rho(r^\\prime)\n",
    "$$"
   ]
  },
  {
   "cell_type": "markdown",
   "metadata": {},
   "source": [
    "Where $V_{\\rm ext}(r)$ is the external potential (say the Coulomb potential from the nucleus), $V_{ee}(r)$ is the potential energy of two electrons separated by distance $r$ (again, a Coulomb potential), and the electron distribution is"
   ]
  },
  {
   "cell_type": "markdown",
   "metadata": {},
   "source": [
    "$$\n",
    "\\rho(r) =\\sum_{n=1}^N |\\phi_n(r)|^2.\n",
    "$$"
   ]
  },
  {
   "cell_type": "markdown",
   "metadata": {},
   "source": [
    "Because $V_{\\rm eff}$ depends on the solution of the Schrodinger equation, we call it a \"self-consistent potential.\""
   ]
  },
  {
   "cell_type": "markdown",
   "metadata": {},
   "source": [
    "A typical way to solve these equations is through iteration.  One first makes a \"guess\" for $\\rho$.  For example, $\\rho=0$.  One then calculates the states $\\phi_n$.  One uses these $\\phi_n$ to calculate $\\rho$.  This gives a $V_{\\rm eff}$ which can be used to calculate better $\\phi_n$'s.  These $\\phi_n$'s give a better approximation to $\\rho$... and so on  "
   ]
  },
  {
   "cell_type": "markdown",
   "metadata": {},
   "source": [
    "## Fermi Gas in a Harmonic Trap"
   ]
  },
  {
   "cell_type": "markdown",
   "metadata": {},
   "source": [
    "Here we will use this iterative Hartree approach to calculate the density profile of a gas of fermionic Lithium atoms in a 1D harmonic oscillator potential."
   ]
  },
  {
   "cell_type": "markdown",
   "metadata": {},
   "source": [
    "That is, we imagine that we have a 1D harmonic trap, that we put $N$ atoms in.  We will use dimensionless units where $\\hbar=m=1$, and  take the external potential to be"
   ]
  },
  {
   "cell_type": "markdown",
   "metadata": {},
   "source": [
    "$$\n",
    "V_{\\rm ext} = x^2/2\n",
    "$$"
   ]
  },
  {
   "cell_type": "markdown",
   "metadata": {},
   "source": [
    "The interaction between neutral atoms is short-range, so the atom-atom interactions can be well-approximated as"
   ]
  },
  {
   "cell_type": "markdown",
   "metadata": {},
   "source": [
    "$$\n",
    "V_{aa}=g \\delta(x)\n",
    "$$"
   ]
  },
  {
   "cell_type": "markdown",
   "metadata": {},
   "source": [
    "where $g$ is a constant which parameterizes the interaction strength."
   ]
  },
  {
   "cell_type": "markdown",
   "metadata": {},
   "source": [
    "Thus we need to solve"
   ]
  },
  {
   "cell_type": "markdown",
   "metadata": {},
   "source": [
    "\\begin{equation}\n",
    "\\left[-\\frac{\\partial_x^2}{2} + V_{\\rm eff}(x)\\right] \\phi_n(x)=\\epsilon_n \\phi_n(x)\n",
    "\\end{equation}"
   ]
  },
  {
   "cell_type": "markdown",
   "metadata": {},
   "source": [
    "where"
   ]
  },
  {
   "cell_type": "markdown",
   "metadata": {},
   "source": [
    "\\begin{eqnarray}\n",
    "V_{\\rm eff}(x) &=& V_{\\rm ext}(x) + \\int dx^\\prime\\, V_{a}(x-x^\\prime) \\rho(x^\\prime)\\\\\n",
    "&=& x^2/2 + g \\rho(x)\n",
    "\\end{eqnarray}"
   ]
  },
  {
   "cell_type": "markdown",
   "metadata": {},
   "source": [
    "with"
   ]
  },
  {
   "cell_type": "markdown",
   "metadata": {},
   "source": [
    "$$\n",
    "\\rho(x)=\\sum_{n=1}^N |\\phi_n(x)|^2\n",
    "$$"
   ]
  },
  {
   "cell_type": "markdown",
   "metadata": {},
   "source": [
    "Refer to previous activities to complete the following program"
   ]
  },
  {
   "cell_type": "code",
   "execution_count": null,
   "metadata": {},
   "outputs": [],
   "source": [
    "# Load in the necessary packages\n",
    "\n",
    "%pylab inline\n",
    "\n",
    "from __future__ import division  #get rid of integer division bug\n",
    "from scipy.sparse import *  # loads the functions to deal with sparse matrices\n",
    "from showmat import showmat # loads display functions \n",
    "from scipy.sparse.linalg import eigsh  # load the function which calculates eigenvectors of hermitian matrices"
   ]
  },
  {
   "cell_type": "code",
   "execution_count": null,
   "metadata": {},
   "outputs": [],
   "source": [
    "# complete the missing lines\n",
    "# the easiest thing to do is to copy and paste from an earlier lab\n",
    "#\n",
    "#  This should be fast to do -- don't waste a lot of time thinking about it\n",
    "#\n",
    "def SecondDerivMatrix(numpoints,dx,periodic) : \n",
    "    "
   ]
  },
  {
   "cell_type": "markdown",
   "metadata": {},
   "source": [
    "Run the following to test SecondDerivMatrix.  "
   ]
  },
  {
   "cell_type": "code",
   "execution_count": null,
   "metadata": {},
   "outputs": [],
   "source": [
    "testder=SecondDerivMatrix(numpoints=20,dx=0.1,periodic=True)"
   ]
  },
  {
   "cell_type": "code",
   "execution_count": null,
   "metadata": {},
   "outputs": [],
   "source": [
    "showmat(testder.todense())"
   ]
  },
  {
   "cell_type": "code",
   "execution_count": null,
   "metadata": {},
   "outputs": [],
   "source": [
    "# complete the missing lines\n",
    "# the easiest thing to do is to copy and paste from an earlier lab\n",
    "#\n",
    "# Life will be easier later on if you use the version that we made for the time evolution\n",
    "# where you specify the potential by simply a list of numbers.\n",
    "#\n",
    "def PotentialMatrix(potential):\n",
    "    \"\"\"PotentialMatrix(potential)\n",
    "    generates a finite difference approximation to the operator V(x).\n",
    "    It is called by the following arguments:\n",
    "    potential -- the list of the potential values\n",
    "    \"\"\""
   ]
  },
  {
   "cell_type": "markdown",
   "metadata": {},
   "source": [
    "Run the following to test PotentialMatrix.  "
   ]
  },
  {
   "cell_type": "code",
   "execution_count": null,
   "metadata": {},
   "outputs": [],
   "source": [
    "grid=arange(-1,1,0.1)\n",
    "harmpot=grid**2/2\n",
    "potmat=PotentialMatrix(harmpot)\n",
    "showmat(potmat.todense())"
   ]
  },
  {
   "cell_type": "code",
   "execution_count": null,
   "metadata": {},
   "outputs": [],
   "source": [
    "# complete the missing lines\n",
    "# the easiest thing to do is to copy and paste from an earlier lab\n",
    "\n",
    "def HamiltonianMatrix(potential,dx,periodic=True,hbar=1,mass=1):\n",
    "    \"\"\"HamiltonianMatrix(potential,dx,hbar=1,mass=1)\n",
    "    generates a finite difference approximation to the hamiltonian operator H\n",
    "    for the case of a single particle in a potential V(x)\n",
    "\n",
    "    It is called by the following required arguments:\n",
    "    potential -- a list of values for the potential\n",
    "    dx -- the grid spacing\n",
    "    \n",
    "    It also has two optional arguments, which are assumed to be equal to unity if they\n",
    "    are not specified\n",
    "    hbar -- Planck's constant divided by 2 pi\n",
    "    mass -- the particle mass\n",
    "    \"\"\"\n",
    "    "
   ]
  },
  {
   "cell_type": "markdown",
   "metadata": {},
   "source": [
    "Run the following to test HamiltonianMatrix.  "
   ]
  },
  {
   "cell_type": "code",
   "execution_count": null,
   "metadata": {},
   "outputs": [],
   "source": [
    "grid=arange(-5,5,0.1)\n",
    "delta=0.1\n",
    "harmpot=grid**2/2\n",
    "hammat=HamiltonianMatrix(harmpot,delta)"
   ]
  },
  {
   "cell_type": "code",
   "execution_count": null,
   "metadata": {},
   "outputs": [],
   "source": [
    "eigsh(hammat, # matrix to diagonalize\n",
    " k=10, # find 10 eigenvalues\n",
    " sigma=0, # find eigenvalues closest to 0\n",
    " return_eigenvectors=False # just give eigenvalues\n",
    " )"
   ]
  },
  {
   "cell_type": "code",
   "execution_count": null,
   "metadata": {},
   "outputs": [],
   "source": [
    "# Make a function which is called with a Hamiltonian matrix, and returns the \n",
    "# n eigenvectors with eigenvalues closest to zero\n",
    "\n",
    "def lowesteigenvectors(mat,n):\n",
    "    \"\"\" lowesteigenvectors(mat,n) Returns an array of the k eigenvectors of mat\n",
    "        whose eigenvalues are closest to zero\"\"\"\n",
    "    en,vecs= eigsh(mat,k=n, sigma=0,  return_eigenvectors=True)\n",
    "    return vecs"
   ]
  },
  {
   "cell_type": "markdown",
   "metadata": {},
   "source": [
    "Test with the following"
   ]
  },
  {
   "cell_type": "code",
   "execution_count": null,
   "metadata": {},
   "outputs": [],
   "source": [
    "vecs=lowesteigenvectors(hammat,5)"
   ]
  },
  {
   "cell_type": "code",
   "execution_count": null,
   "metadata": {},
   "outputs": [],
   "source": [
    "for vec in transpose(vecs):\n",
    "    plot(grid,abs(vec)**2)"
   ]
  },
  {
   "cell_type": "markdown",
   "metadata": {},
   "source": [
    "We next need a function which will take an array of eigenvectors, and will normalize them.  That is, if $\\delta$ is the spacing between lattice sites, we want them normalized so that in the end"
   ]
  },
  {
   "cell_type": "markdown",
   "metadata": {},
   "source": [
    "$$\n",
    "\\int  |\\phi(x)|^2 dx\\approx\\sum_j |\\phi(x_j)|^2 \\delta =1\n",
    "$$"
   ]
  },
  {
   "cell_type": "markdown",
   "metadata": {},
   "source": [
    "Here is a straightforward way to do this"
   ]
  },
  {
   "cell_type": "code",
   "execution_count": null,
   "metadata": {},
   "outputs": [],
   "source": [
    "# First we calculate what happens if we sum phi^2\n",
    "# vecs is a list of 5 eigenvectors, the following code calculates the sum of phi^2\n",
    "\n",
    "oldnorms=(abs(vecs)**2).sum(0)\n",
    "oldnorms"
   ]
  },
  {
   "cell_type": "code",
   "execution_count": null,
   "metadata": {},
   "outputs": [],
   "source": [
    "# next we divide the eigenvectors by the square root of these norms times delta\n",
    "# The following code does that in one fell swoop\n",
    "\n",
    "newvecs=vecs/(sqrt(oldnorms*delta))"
   ]
  },
  {
   "cell_type": "code",
   "execution_count": null,
   "metadata": {},
   "outputs": [],
   "source": [
    "# we can check to see if it works\n",
    "# we should get five 1's when we run this line\n",
    "\n",
    "delta*(abs(newvecs)**2).sum(0)"
   ]
  },
  {
   "cell_type": "code",
   "execution_count": null,
   "metadata": {},
   "outputs": [],
   "source": [
    "# Encapsulate this algorithm into a function\n",
    "def normvecs(vecs,delta):\n",
    "    \"\"\" normvecs(vecs,delta) takes an array of eigenvectors, vecs, and normalizes them, assuming\n",
    "    the spatial grid is spaced by delta \"\"\"\n",
    "    "
   ]
  },
  {
   "cell_type": "markdown",
   "metadata": {},
   "source": [
    "Test it with the following cell.  This is a list of 3 non-normalized wavefunctions, each of which when normalized should become (1/sqrt(2),1/sqrt(2)) when normalized."
   ]
  },
  {
   "cell_type": "code",
   "execution_count": null,
   "metadata": {},
   "outputs": [],
   "source": [
    "normvecs(array([[2,3,4],[2,3,4]]),1)"
   ]
  },
  {
   "cell_type": "markdown",
   "metadata": {},
   "source": [
    "Next we want to calculate rho.  We can again use the \"sum\" method to do this.  The following code generates a bunch of eigenvectors, then sums them, plotting the individual eigenvectors and their sums"
   ]
  },
  {
   "cell_type": "code",
   "execution_count": null,
   "metadata": {},
   "outputs": [],
   "source": [
    "grid=arange(-5,5,0.1)\n",
    "delta=0.1\n",
    "harmpot=grid**2/2\n",
    "hammat=HamiltonianMatrix(harmpot,delta)\n",
    "vecs=lowesteigenvectors(hammat,5)\n",
    "nvecs=normvecs(vecs,delta)\n",
    "\n",
    "psisq=abs(nvecs)**2\n",
    "dens=psisq.sum(1)\n",
    "\n",
    "plot(grid,dens)\n",
    "\n",
    "for vec in transpose(nvecs):\n",
    "    plot(grid,abs(vec)**2)\n",
    "    \n"
   ]
  },
  {
   "cell_type": "code",
   "execution_count": null,
   "metadata": {},
   "outputs": [],
   "source": [
    "# Make a function which takes the normalized vectors as its argument, then spits out the density\n",
    "\n",
    "def finddens(vecs):\n",
    "    \"\"\" finddens(vecs) takes an array of normalized eigenvectors, and returns their density \"\"\"\n",
    "    "
   ]
  },
  {
   "cell_type": "markdown",
   "metadata": {},
   "source": [
    "Test it with the following code.  Which takes 20 particles in a square box.  The density should be mostly flat, with some wiggles near the edge.  These wiggles are known as \"Friedel Oscillations\" and can be important in solid state systems.  If everything works, the area under the density curve should be exactly 20."
   ]
  },
  {
   "cell_type": "code",
   "execution_count": null,
   "metadata": {},
   "outputs": [],
   "source": [
    "grid=arange(-5,5,0.1)\n",
    "delta=0.1\n",
    "flatpot=zeros(len(grid))\n",
    "hammat2=HamiltonianMatrix(flatpot,delta,periodic=False)\n",
    "vecs2=lowesteigenvectors(hammat2,20)\n",
    "nvecs2=normvecs(vecs2,delta)\n",
    "dens2=finddens(nvecs2)\n",
    "\n",
    "plot(grid,dens2)\n",
    "\n",
    "for vec in transpose(nvecs2):\n",
    "    plot(grid,abs(vec)**2)"
   ]
  },
  {
   "cell_type": "markdown",
   "metadata": {},
   "source": [
    "Now we want to make a function which when called with a density, solves the Schrodinger equation, and spits out a new density."
   ]
  },
  {
   "cell_type": "markdown",
   "metadata": {},
   "source": [
    "\\begin{eqnarray}\n",
    "V_{\\rm eff}(x) &=& x^2/2 + g \\rho(x)\n",
    "\\end{eqnarray}"
   ]
  },
  {
   "cell_type": "code",
   "execution_count": null,
   "metadata": {},
   "outputs": [],
   "source": [
    "# Complete the following code\n",
    "def HartreeIterate(olddens,numatoms,g,grid):\n",
    "    \"\"\" HartreeIterate(olddens,num,g) takes a trial density, olddens, generates\n",
    "    the Hartree potential, solves the Schrodinger equation, then returns the new density.\n",
    "    It calls all of the functions we previously defined:  finddens, normvecs,\n",
    "    HamiltonianMatrix\"\"\"\n",
    "    \n",
    "    "
   ]
  },
  {
   "cell_type": "markdown",
   "metadata": {},
   "source": [
    "Test with the following.  This shows two Hartree iterations, starting with a \"guess\" of zero"
   ]
  },
  {
   "cell_type": "code",
   "execution_count": null,
   "metadata": {},
   "outputs": [],
   "source": [
    "grid=arange(-10,10,0.1)\n",
    "startdens=zeros(len(grid))\n",
    "plot(grid,startdens)\n",
    "\n",
    "dens1=HartreeIterate(startdens,10,2,grid)\n",
    "plot(grid,dens1)\n",
    "\n",
    "dens2=HartreeIterate(dens1,10,2,grid)\n",
    "plot(grid,dens2)"
   ]
  },
  {
   "cell_type": "markdown",
   "metadata": {},
   "source": [
    "Make a loop which goes through 50 iterations,with 10 particles, and g=2 -- plotting the density at each step.  You should find that the algorithm converges, and the density profile is wider than the profile you find for non-interacting particles (which is just the profile from the 1st iteration)."
   ]
  },
  {
   "cell_type": "code",
   "execution_count": null,
   "metadata": {},
   "outputs": [],
   "source": [
    "#write code here\n"
   ]
  },
  {
   "cell_type": "markdown",
   "metadata": {},
   "source": [
    "For stronger interactions, the naive iteration algorithm is unstable, but here is a slight variation which works.  The trick is that we mix the new solution with the old one."
   ]
  },
  {
   "cell_type": "code",
   "execution_count": null,
   "metadata": {},
   "outputs": [],
   "source": [
    "grid=arange(-10,10,0.1)\n",
    "startdens=zeros(len(grid))\n",
    "plot(grid,startdens)\n",
    "n=0\n",
    "\n",
    "dens=startdens\n",
    "while n<50:\n",
    "    newdens=HartreeIterate(dens,10,30,grid)\n",
    "    plot(grid,newdens)\n",
    "    dens=(0.9*dens+0.1*newdens)\n",
    "    n=n+1"
   ]
  },
  {
   "cell_type": "markdown",
   "metadata": {},
   "source": [
    "Write a function which will automate this calculation -- taking the parameters, and spitting out the density profile"
   ]
  },
  {
   "cell_type": "code",
   "execution_count": null,
   "metadata": {},
   "outputs": [],
   "source": [
    "# Complete this function\n",
    "def solveHartree(grid,numparticles,g,numiterations):\n",
    "    \"\"\" solveHartree(grid,numparticles,g,numiterations) iterates the Hartree equations\n",
    "    for numparticles fermions trapped in a 1D harmonic oscillator potential, with\n",
    "    a point interaction of strength g.  It iterates the equations\n",
    "    numiterations times starting with a density of zero. \"\"\"\n",
    "    \n"
   ]
  },
  {
   "cell_type": "markdown",
   "metadata": {},
   "source": [
    "Test with the following line"
   ]
  },
  {
   "cell_type": "code",
   "execution_count": null,
   "metadata": {},
   "outputs": [],
   "source": [
    "d30=solveHartree(grid=arange(-10,10,0.1),numparticles=10,g=30,numiterations=50)\n",
    "plot(arange(-10,10,0.1),d30)"
   ]
  },
  {
   "cell_type": "markdown",
   "metadata": {},
   "source": [
    "Write a function which takes a density profile and a grid, returning the rms size of the cloud"
   ]
  },
  {
   "cell_type": "markdown",
   "metadata": {},
   "source": [
    "$$\n",
    "\\sigma=\\sqrt{\\frac{\\int \\rho(x) x^2 dx}{\\int \\rho(x)  dx}}\n",
    "$$"
   ]
  },
  {
   "cell_type": "code",
   "execution_count": null,
   "metadata": {},
   "outputs": [],
   "source": [
    "def width(density,grid):\n",
    "    \"\"\"width calculates the rms width of a density profile on a grid \"\"\""
   ]
  },
  {
   "cell_type": "markdown",
   "metadata": {},
   "source": [
    "Test with the following line"
   ]
  },
  {
   "cell_type": "code",
   "execution_count": null,
   "metadata": {},
   "outputs": [],
   "source": [
    "width(d30,arange(-10,10,0.1))"
   ]
  },
  {
   "cell_type": "markdown",
   "metadata": {},
   "source": [
    "For the case of 10 particles, find the width $\\sigma$ for g=0,5,10,15,20.  Plot $\\sigma$ vs $g$.  Label your graph."
   ]
  },
  {
   "cell_type": "code",
   "execution_count": null,
   "metadata": {},
   "outputs": [],
   "source": []
  },
  {
   "cell_type": "code",
   "execution_count": null,
   "metadata": {},
   "outputs": [],
   "source": []
  },
  {
   "cell_type": "code",
   "execution_count": null,
   "metadata": {},
   "outputs": [],
   "source": []
  }
 ],
 "metadata": {
  "kernelspec": {
   "display_name": "Python [default]",
   "language": "python",
   "name": "python2"
  },
  "language_info": {
   "codemirror_mode": {
    "name": "ipython",
    "version": 2
   },
   "file_extension": ".py",
   "mimetype": "text/x-python",
   "name": "python",
   "nbconvert_exporter": "python",
   "pygments_lexer": "ipython2",
   "version": "2.7.15"
  }
 },
 "nbformat": 4,
 "nbformat_minor": 1
}
